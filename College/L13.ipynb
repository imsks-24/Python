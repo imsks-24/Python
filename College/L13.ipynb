{
 "cells": [
  {
   "attachments": {
    "image.png": {
     "image/png": "[encoded data removed]"
    }
   },
   "cell_type": "markdown",
   "id": "c7fc94a2",
   "metadata": {},
   "source": [
    "# Inheritance\n",
    "\n",
    "![image.png](attachment:image.png)"
   ]
  },
  {
   "cell_type": "code",
   "execution_count": 50,
   "id": "a3a732ba",
   "metadata": {},
   "outputs": [
    {
     "name": "stdout",
     "output_type": "stream",
     "text": [
      "shreyansh\n",
      "<__main__.B object at 0x000001DAC9CBF430> <class '__main__.B'>\n",
      "Hi, I am shreyansh\n"
     ]
    }
   ],
   "source": [
    "'''Inherits attributes of parent class'''\n",
    "\n",
    "class A(object):\n",
    "    def __init__(self, name):\n",
    "        self.name = name\n",
    "    def greet(self):\n",
    "        print(\"Hi, I am \" + self.name)\n",
    "class B(A):   # class B objects will inherit attributes of class A\n",
    "    pass\n",
    "#x = A(\"rohan\") # creating an object through constructor call\n",
    "y = B(\"shreyansh\") # creating a chicld class object\n",
    "print(y.name)\n",
    "print(y, type(y))\n",
    "#print(y, type(y))\n",
    "y.greet()  # child class can acces attributes and methods of parent class"
   ]
  },
  {
   "cell_type": "code",
   "execution_count": 52,
   "id": "2264357c",
   "metadata": {},
   "outputs": [
    {
     "name": "stdout",
     "output_type": "stream",
     "text": [
      "shreyansh\n",
      "<__main__.B object at 0x000001DAC9D05340> <class '__main__.B'>\n",
      "Hi, I am shreyansh\n",
      "I am a child class of A\n"
     ]
    }
   ],
   "source": [
    "'''Override attributes of parent class'''\n",
    "class A:\n",
    "    def __init__(self, name):\n",
    "        self.name = name\n",
    "    def greet(self):\n",
    "        print(\"Hi, I am \" + self.name)\n",
    "class B(A):\n",
    "    def greet(self):\n",
    "        print(\"Hi, I am \" + self.name)\n",
    "        print(\"I am a child class of A\")\n",
    "#x = A(\"rohan\")\n",
    "y = B(\"shreyansh\")\n",
    "#print(x, type(x))\n",
    "print(y.name)\n",
    "print(y, type(y))\n",
    "y.greet()  # child class can override the methods of the parent class"
   ]
  },
  {
   "cell_type": "code",
   "execution_count": 55,
   "id": "7e72fccc",
   "metadata": {},
   "outputs": [
    {
     "name": "stdout",
     "output_type": "stream",
     "text": [
      "<__main__.B object at 0x000001DAC9DD2430> <class '__main__.B'>\n",
      "Hi, I am shreyansh\n",
      "I am a child class of A\n"
     ]
    }
   ],
   "source": [
    "'''Can exploit the attributes of parent class with same namespace'''\n",
    "\n",
    "class A:\n",
    "    def __init__(self, name):\n",
    "        self.name = name\n",
    "    def greet(self):\n",
    "        print(\"Hi, I am \" + self.name)\n",
    "class B(A):\n",
    "    def greet(self):\n",
    "        #print(\"Hi, I am \" + self.name)\n",
    "        A.greet(self) # child can still access the methods of parent class if required\n",
    "        print(\"I am a child class of A\")\n",
    "#x = A(\"rohan\")\n",
    "y = B(\"shreyansh\")\n",
    "#print(x, type(x))\n",
    "print(y, type(y))\n",
    "y.greet()  # child class can override the methods of the parent class"
   ]
  },
  {
   "cell_type": "code",
   "execution_count": 56,
   "id": "6c324571",
   "metadata": {},
   "outputs": [
    {
     "name": "stdout",
     "output_type": "stream",
     "text": [
      "<__main__.B object at 0x000001DAC9CCD3A0> <class '__main__.B'>\n",
      "Hi, I am shreyansh\n",
      "I am a child class of A\n"
     ]
    }
   ],
   "source": [
    "'''super() method'''\n",
    "\n",
    "class A:\n",
    "    def __init__(self, name):\n",
    "        self.name = name\n",
    "    def greet(self):\n",
    "        print(\"Hi, I am \" + self.name)\n",
    "class B(A):\n",
    "    def greet(self):\n",
    "        super().greet() # super() is a useful method to access parent class attributes\n",
    "        print(\"I am a child class of A\")\n",
    "#x = A(\"rohan\")\n",
    "y = B(\"shreyansh\")\n",
    "#print(x, type(x))\n",
    "print(y, type(y))\n",
    "y.greet()  # child class can override the methods of the parent class"
   ]
  },
  {
   "cell_type": "markdown",
   "id": "0e5493ca",
   "metadata": {},
   "source": [
    "# MRO (Method Resolution Order) and super()\n",
    "\n",
    "## multiple inheritance"
   ]
  },
  {
   "cell_type": "code",
   "execution_count": 57,
   "id": "90861b17",
   "metadata": {},
   "outputs": [],
   "source": [
    "# multiple inheritance with two intemediate classes\n",
    "\n",
    "class A:\n",
    "    def m(self):\n",
    "        print(\"m of A called\")\n",
    "class B(A):\n",
    "    def m(self):\n",
    "        print(\"m of B called\")\n",
    "        A.m(self)\n",
    "class C(A):\n",
    "    def m(self):\n",
    "        print(\"m of C called\")\n",
    "        A.m(self)\n",
    "class D(B,C):\n",
    "    def m(self):\n",
    "        print(\"m of D called\")\n",
    "        B.m(self)\n",
    "        C.m(self)\n"
   ]
  },
  {
   "cell_type": "code",
   "execution_count": 58,
   "id": "f93ce8f9",
   "metadata": {},
   "outputs": [
    {
     "name": "stdout",
     "output_type": "stream",
     "text": [
      "m of D called\n",
      "m of B called\n",
      "m of A called\n",
      "m of C called\n",
      "m of A called\n"
     ]
    }
   ],
   "source": [
    "x = D() # constructor call\n",
    "x.m()"
   ]
  },
  {
   "cell_type": "code",
   "execution_count": 60,
   "id": "edae0acd",
   "metadata": {},
   "outputs": [
    {
     "name": "stdout",
     "output_type": "stream",
     "text": [
      "[<class '__main__.D'>, <class '__main__.B'>, <class '__main__.C'>, <class '__main__.A'>, <class 'object'>]\n",
      "[<class '__main__.C'>, <class '__main__.A'>, <class 'object'>]\n",
      "[<class '__main__.B'>, <class '__main__.A'>, <class 'object'>]\n",
      "[<class '__main__.A'>, <class 'object'>]\n"
     ]
    }
   ],
   "source": [
    "# python mro does superclass linearisation\n",
    "print(D.mro())  \n",
    "print(C.mro())\n",
    "print(B.mro())\n",
    "print(A.mro())"
   ]
  },
  {
   "cell_type": "code",
   "execution_count": 69,
   "id": "3c16dfa4",
   "metadata": {},
   "outputs": [],
   "source": [
    "class A:\n",
    "    def m(self):\n",
    "        print(\"m of A called\")\n",
    "class B(A):\n",
    "    def m(self):\n",
    "        print('m of B called')\n",
    "        super().m()\n",
    "class C(A):\n",
    "    def m(self):\n",
    "        print(\"m of C called\")\n",
    "        super().m()\n",
    "class D(B,C):\n",
    "    def m(self):\n",
    "        print(\"m of D called\")\n",
    "        super().m()\n"
   ]
  },
  {
   "cell_type": "code",
   "execution_count": 70,
   "id": "6962f149",
   "metadata": {},
   "outputs": [
    {
     "name": "stdout",
     "output_type": "stream",
     "text": [
      "m of D called\n",
      "m of B called\n",
      "m of C called\n",
      "m of A called\n"
     ]
    }
   ],
   "source": [
    "x = D()\n",
    "x.m()"
   ]
  },
  {
   "cell_type": "code",
   "execution_count": 71,
   "id": "e9b6007b",
   "metadata": {},
   "outputs": [],
   "source": [
    "class A:\n",
    "    def __init__(self):\n",
    "        print(\"A.__init__\")\n",
    "class B(A):\n",
    "    def __init__(self):\n",
    "        print(\"B.__init__\")\n",
    "        super().__init__()\n",
    "class C(A):\n",
    "    def __init__(self):\n",
    "        print(\"C.__init__\")\n",
    "        super().__init__()\n",
    "class D(B,C):\n",
    "    def __init__(self):\n",
    "        print(\"D.__init__\")\n",
    "        super().__init__()\n"
   ]
  },
  {
   "cell_type": "code",
   "execution_count": 72,
   "id": "0815cac6",
   "metadata": {},
   "outputs": [
    {
     "name": "stdout",
     "output_type": "stream",
     "text": [
      "D.__init__\n",
      "B.__init__\n",
      "C.__init__\n",
      "A.__init__\n"
     ]
    }
   ],
   "source": [
    "d=D()\n"
   ]
  },
  {
   "cell_type": "code",
   "execution_count": 34,
   "id": "21ef4627",
   "metadata": {},
   "outputs": [],
   "source": [
    "class A():  \n",
    "    def __init__(self):\n",
    "        print(\"Starting __init__ of A\")\n",
    "        self.name = \"Tony Stark\"\n",
    "        print(\"ending __init__ of A\")\n",
    "    def display(self):\n",
    "        print(\"method of class A\")   \n",
    "class B():  \n",
    "    def __init__(self):\n",
    "        print(\"Starting __init__ of B\")\n",
    "        self.name = \"Steve Rogers\"\n",
    "        print(\"ending __init__ of B\")\n",
    "        \n",
    "    def display(self):\n",
    "        print(\"method of class B\")  \n",
    "class C(A, B):\n",
    "    def __init__(self):\n",
    "        print(\"Starting __init__ of C\")\n",
    "        super().__init__()\n",
    "        print(\"ending __init__ of C\")\n",
    "        \n",
    "    def display(self):\n",
    "        print(\"method of class C\")"
   ]
  },
  {
   "cell_type": "code",
   "execution_count": 36,
   "id": "9a1b0821",
   "metadata": {},
   "outputs": [
    {
     "name": "stdout",
     "output_type": "stream",
     "text": [
      "Starting __init__ of C\n",
      "Starting __init__ of A\n",
      "ending __init__ of A\n",
      "ending __init__ of C\n"
     ]
    },
    {
     "data": {
      "text/plain": [
       "'Tony Stark'"
      ]
     },
     "execution_count": 36,
     "metadata": {},
     "output_type": "execute_result"
    }
   ],
   "source": [
    "c=C()\n",
    "c.name"
   ]
  },
  {
   "cell_type": "code",
   "execution_count": 28,
   "id": "0219c2b2",
   "metadata": {},
   "outputs": [
    {
     "data": {
      "text/plain": [
       "[__main__.C, __main__.A, __main__.B, object]"
      ]
     },
     "execution_count": 28,
     "metadata": {},
     "output_type": "execute_result"
    }
   ],
   "source": [
    "C.mro()"
   ]
  },
  {
   "cell_type": "code",
   "execution_count": 37,
   "id": "a7845fad",
   "metadata": {},
   "outputs": [],
   "source": [
    "class A():  \n",
    "    def __init__(self):\n",
    "        print(\"Starting __init__ of A\")\n",
    "        self.name = \"Tony Stark\"\n",
    "        print(\"ending __init__ of A\")\n",
    "        super().__init__()\n",
    "    def display(self):\n",
    "        print(\"method of class A\")   \n",
    "class B():  \n",
    "    def __init__(self):\n",
    "        print(\"Starting __init__ of B\")\n",
    "        self.name = \"Steve Rogers\"\n",
    "        print(\"ending __init__ of B\")\n",
    "        \n",
    "    def display(self):\n",
    "        print(\"method of class B\")\n",
    "class C(A, B):\n",
    "    def __init__(self):\n",
    "        print(\"Starting __init__ of C\")\n",
    "        super().__init__()\n",
    "        print(\"ending __init__ of C\")\n",
    "        \n",
    "    def display(self):\n",
    "        print(\"method of class C\")"
   ]
  },
  {
   "cell_type": "code",
   "execution_count": 38,
   "id": "74cef65e",
   "metadata": {},
   "outputs": [
    {
     "name": "stdout",
     "output_type": "stream",
     "text": [
      "Starting __init__ of C\n",
      "Starting __init__ of A\n",
      "ending __init__ of A\n",
      "Starting __init__ of B\n",
      "ending __init__ of B\n",
      "ending __init__ of C\n"
     ]
    },
    {
     "data": {
      "text/plain": [
       "'Steve Rogers'"
      ]
     },
     "execution_count": 38,
     "metadata": {},
     "output_type": "execute_result"
    }
   ],
   "source": [
    "c=C()\n",
    "c.name"
   ]
  },
  {
   "cell_type": "code",
   "execution_count": null,
   "id": "6db9df6a",
   "metadata": {},
   "outputs": [],
   "source": []
  }
 ],
 "metadata": {
  "kernelspec": {
   "display_name": "Python 3.10.4 ('Python': venv)",
   "language": "python",
   "name": "python3"
  },
  "language_info": {
   "codemirror_mode": {
    "name": "ipython",
    "version": 3
   },
   "file_extension": ".py",
   "mimetype": "text/x-python",
   "name": "python",
   "nbconvert_exporter": "python",
   "pygments_lexer": "ipython3",
   "version": "3.10.4"
  },
  "vscode": {
   "interpreter": {
    "hash": "2cd22892412358948f31e9890141ecfc6cbdaaa9c5b83fbafb7e1eb871fcd492"
   }
  }
 },
 "nbformat": 4,
 "nbformat_minor": 5
}
