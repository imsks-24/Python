{
 "cells": [
  {
   "cell_type": "code",
   "execution_count": 1,
   "id": "b66a4b93",
   "metadata": {},
   "outputs": [
    {
     "name": "stdout",
     "output_type": "stream",
     "text": [
      "Salary is: 1040000\n"
     ]
    }
   ],
   "source": [
    "wage=500\n",
    "hours=40\n",
    "weeks=52\n",
    "str1=\"Salary is:\"\n",
    "print(str1+\"\",wage*hours*weeks)"
   ]
  },
  {
   "cell_type": "code",
   "execution_count": 5,
   "id": "5c47ad85",
   "metadata": {},
   "outputs": [
    {
     "name": "stdout",
     "output_type": "stream",
     "text": [
      "Salary is: 1040717\n",
      "Salary is: 1040717.6000000001\n"
     ]
    }
   ],
   "source": [
    "wage=500.345\n",
    "hours=40\n",
    "weeks=52\n",
    "str1=\"Salary is:\"\n",
    "print(str1+\"\",int(wage*hours*weeks))\n",
    "print(str1+\"\",wage*hours*weeks)"
   ]
  },
  {
   "cell_type": "code",
   "execution_count": 8,
   "id": "b820da1d",
   "metadata": {},
   "outputs": [
    {
     "name": "stdout",
     "output_type": "stream",
     "text": [
      "3, 2, 1 Go!\n"
     ]
    }
   ],
   "source": [
    "#write a program to get a string 3, 2, 1 Go!\n",
    "print('3, 2, 1 Go!')"
   ]
  },
  {
   "cell_type": "code",
   "execution_count": 1,
   "id": "4c350139",
   "metadata": {},
   "outputs": [
    {
     "name": "stdout",
     "output_type": "stream",
     "text": [
      "Hi! we are in dtu\n"
     ]
    }
   ],
   "source": [
    "# print in same line\n",
    "#str12=str(23)\n",
    "print('Hi!', end=' ' )\n",
    "print('we are in dtu')\n"
   ]
  },
  {
   "cell_type": "code",
   "execution_count": 16,
   "id": "c5ced8b9",
   "metadata": {},
   "outputs": [
    {
     "name": "stdout",
     "output_type": "stream",
     "text": [
      "1 \n",
      " 2 \n",
      " 3\n",
      "a\n",
      "b\n",
      "c\n"
     ]
    }
   ],
   "source": [
    "#printing with newline \n",
    "print(1,'\\n',2,'\\n',3)\n",
    "print('a\\nb\\nc')"
   ]
  },
  {
   "cell_type": "code",
   "execution_count": 17,
   "id": "3663d3eb",
   "metadata": {},
   "outputs": [
    {
     "name": "stdout",
     "output_type": "stream",
     "text": [
      "ram weights 70 kg, and he is  6.1 ft long.\n"
     ]
    }
   ],
   "source": [
    "#printing with multiple data types\n",
    "weight=70\n",
    "height=6.1\n",
    "str2=\"ram weights\"\n",
    "str3='and has a height of'\n",
    "print(str2+'',weight,'kg, and he is ',height,''+'ft long.')"
   ]
  },
  {
   "cell_type": "code",
   "execution_count": null,
   "id": "31658700",
   "metadata": {},
   "outputs": [],
   "source": [
    "#basic input command\n",
    "age=input('please enter your age: ')\n",
    "print('my age is ',age)"
   ]
  },
  {
   "cell_type": "code",
   "execution_count": 6,
   "id": "1ffeb72e",
   "metadata": {},
   "outputs": [],
   "source": [
    "#basic input\n",
    "var_wage=input(\"insert hourly wage: \")\n",
    "print('hourly wage is: ',var_wage)"
   ]
  },
  {
   "cell_type": "code",
   "execution_count": 2,
   "id": "31a6d35e",
   "metadata": {},
   "outputs": [
    {
     "name": "stdout",
     "output_type": "stream",
     "text": [
      "insert hourly wage: 56\n",
      "new wage is:  61\n"
     ]
    }
   ],
   "source": [
    "#whatever you type converted into string\n",
    "var_wage=int(input(\"insert hourly wage: \"))\n",
    "print('new wage is: ',var_wage+5)"
   ]
  },
  {
   "cell_type": "code",
   "execution_count": 29,
   "id": "074d4a55",
   "metadata": {},
   "outputs": [
    {
     "name": "stdout",
     "output_type": "stream",
     "text": [
      "insert hourly wage: 25.0\n",
      "new wage is:  30.0\n"
     ]
    }
   ],
   "source": [
    "#basic input\n",
    "var_wage=float(input(\"insert hourly wage: \"))\n",
    "print('new wage is: ',var_wage+5)"
   ]
  },
  {
   "cell_type": "code",
   "execution_count": 31,
   "id": "9354771d",
   "metadata": {},
   "outputs": [
    {
     "name": "stdout",
     "output_type": "stream",
     "text": [
      "2\n",
      "3\n",
      "6\n",
      "11\n"
     ]
    }
   ],
   "source": [
    "#input multiple values\n",
    "a=int(input())\n",
    "b=int(input())\n",
    "c=int(input())\n",
    "print(a+b+c)"
   ]
  },
  {
   "cell_type": "code",
   "execution_count": 4,
   "id": "03b74cff",
   "metadata": {},
   "outputs": [
    {
     "name": "stdout",
     "output_type": "stream",
     "text": [
      "45\n",
      "56\n",
      "23\n",
      "124\n"
     ]
    }
   ],
   "source": [
    "print(int(input())+int(input())+int(input()))"
   ]
  },
  {
   "cell_type": "code",
   "execution_count": 8,
   "id": "946b3b12",
   "metadata": {},
   "outputs": [
    {
     "name": "stdout",
     "output_type": "stream",
     "text": [
      "5000.98\n"
     ]
    },
    {
     "ename": "ValueError",
     "evalue": "invalid literal for int() with base 10: '5000.98'",
     "output_type": "error",
     "traceback": [
      "\u001b[1;31m---------------------------------------------------------------------------\u001b[0m",
      "\u001b[1;31mValueError\u001b[0m                                Traceback (most recent call last)",
      "\u001b[1;32m~\\AppData\\Local\\Temp/ipykernel_14056/275925142.py\u001b[0m in \u001b[0;36m<module>\u001b[1;34m\u001b[0m\n\u001b[0;32m      1\u001b[0m \u001b[1;31m#runtime/value error:avoid entering string if intention is integer or alter the code to avoid\u001b[0m\u001b[1;33m\u001b[0m\u001b[1;33m\u001b[0m\u001b[0m\n\u001b[1;32m----> 2\u001b[1;33m \u001b[0msalary\u001b[0m\u001b[1;33m=\u001b[0m\u001b[0mint\u001b[0m\u001b[1;33m(\u001b[0m\u001b[0minput\u001b[0m\u001b[1;33m(\u001b[0m\u001b[1;33m)\u001b[0m\u001b[1;33m)\u001b[0m\u001b[1;33m\u001b[0m\u001b[1;33m\u001b[0m\u001b[0m\n\u001b[0m\u001b[0;32m      3\u001b[0m \u001b[0mprint\u001b[0m\u001b[1;33m(\u001b[0m\u001b[0msalary\u001b[0m\u001b[1;33m)\u001b[0m\u001b[1;33m\u001b[0m\u001b[1;33m\u001b[0m\u001b[0m\n",
      "\u001b[1;31mValueError\u001b[0m: invalid literal for int() with base 10: '5000.98'"
     ]
    }
   ],
   "source": [
    "#runtime/value error:avoid entering string if intention is integer or alter the code to avoid\n",
    "salary=int(input())\n",
    "print(salary)"
   ]
  },
  {
   "cell_type": "code",
   "execution_count": 9,
   "id": "fd1e543a",
   "metadata": {},
   "outputs": [
    {
     "name": "stdout",
     "output_type": "stream",
     "text": [
      "67\n"
     ]
    }
   ],
   "source": [
    "var1=67.7\n",
    "print(int(var1))"
   ]
  },
  {
   "cell_type": "code",
   "execution_count": null,
   "id": "937cd02d",
   "metadata": {},
   "outputs": [],
   "source": []
  }
 ],
 "metadata": {
  "kernelspec": {
   "display_name": "Python 3.10.4 ('Python': venv)",
   "language": "python",
   "name": "python3"
  },
  "language_info": {
   "codemirror_mode": {
    "name": "ipython",
    "version": 3
   },
   "file_extension": ".py",
   "mimetype": "text/x-python",
   "name": "python",
   "nbconvert_exporter": "python",
   "pygments_lexer": "ipython3",
   "version": "3.10.4"
  },
  "vscode": {
   "interpreter": {
    "hash": "2cd22892412358948f31e9890141ecfc6cbdaaa9c5b83fbafb7e1eb871fcd492"
   }
  }
 },
 "nbformat": 4,
 "nbformat_minor": 5
}
