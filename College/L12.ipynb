{
 "cells": [
  {
   "cell_type": "markdown",
   "id": "4a3b0b1f",
   "metadata": {},
   "source": [
    "# getters and setters"
   ]
  },
  {
   "cell_type": "code",
   "execution_count": 1,
   "id": "b6040aa6",
   "metadata": {},
   "outputs": [],
   "source": [
    "class Coordinate(object):\n",
    "    \"\"\" A coordinate made up of an x and y value \"\"\"\n",
    "    def __init__(self, x=0, y=0):\n",
    "        \"\"\" Sets the x and y values \"\"\"\n",
    "        self.x = x\n",
    "        self.y = y\n",
    "    def __str__(self):\n",
    "        \"\"\" Returns a string representation of self \"\"\"\n",
    "        return \"<\" + str(self.x) + \",\" + str(self.y) + \">\"\n",
    "    #getters\n",
    "    def get_x(self):\n",
    "        return self.x\n",
    "    def get_y(self):\n",
    "        return self.y\n",
    "    #setters\n",
    "    def set_x(self,newx):\n",
    "        self.x=newx\n",
    "    def set_y(self,newy):\n",
    "        self.y=newy\n",
    "    def distance(self, other):\n",
    "        \"\"\" Returns the euclidean distance between two points \"\"\"\n",
    "        x_diff_sq = (self.x-other.x)**2\n",
    "        y_diff_sq = (self.y-other.y)**2\n",
    "        return (x_diff_sq + y_diff_sq)**0.5"
   ]
  },
  {
   "cell_type": "code",
   "execution_count": 9,
   "id": "79329f6c",
   "metadata": {},
   "outputs": [
    {
     "name": "stdout",
     "output_type": "stream",
     "text": [
      "0\n",
      "madan\n",
      "4\n"
     ]
    }
   ],
   "source": [
    "cod1=Coordinate()\n",
    "print(cod1.get_y())\n",
    "cod1.x='madan'\n",
    "print(cod1.get_x())\n",
    "cod1.set_x(4)\n",
    "print(cod1.get_x())"
   ]
  },
  {
   "cell_type": "code",
   "execution_count": 6,
   "id": "e607bd92",
   "metadata": {},
   "outputs": [
    {
     "name": "stdout",
     "output_type": "stream",
     "text": [
      "<2,3>\n"
     ]
    }
   ],
   "source": [
    "cod1.set_x(2)\n",
    "cod1.set_y(3)\n",
    "print(cod1)"
   ]
  },
  {
   "cell_type": "code",
   "execution_count": 7,
   "id": "82890b81",
   "metadata": {},
   "outputs": [],
   "source": [
    "cod1.x=5"
   ]
  },
  {
   "cell_type": "code",
   "execution_count": 8,
   "id": "e6ba58bc",
   "metadata": {},
   "outputs": [
    {
     "name": "stdout",
     "output_type": "stream",
     "text": [
      "<5,3>\n"
     ]
    }
   ],
   "source": [
    "print(cod1)"
   ]
  },
  {
   "cell_type": "code",
   "execution_count": 9,
   "id": "7483bbe5",
   "metadata": {},
   "outputs": [],
   "source": [
    "cod1.x='madan'"
   ]
  },
  {
   "cell_type": "code",
   "execution_count": 10,
   "id": "c473f2ce",
   "metadata": {},
   "outputs": [
    {
     "name": "stdout",
     "output_type": "stream",
     "text": [
      "<madan,3>\n"
     ]
    }
   ],
   "source": [
    "print(cod1)"
   ]
  },
  {
   "cell_type": "markdown",
   "id": "2c192be1",
   "metadata": {},
   "source": [
    "# decorators "
   ]
  },
  {
   "cell_type": "code",
   "execution_count": 10,
   "id": "675f83cd",
   "metadata": {},
   "outputs": [],
   "source": [
    "class Coordinate(object):\n",
    "    \"\"\" A coordinate made up of an x and y value \"\"\"\n",
    "    def __init__(self, x=0, y=0):\n",
    "        \"\"\" Sets the x and y values \"\"\"\n",
    "        self.x = x\n",
    "        self.y = y\n",
    "    def __str__(self):\n",
    "        \"\"\" Returns a string representation of self \"\"\"\n",
    "        return \"<\" + str(self.x) + \",\" + str(self.y) + \">\"\n",
    "    #getters\n",
    "    @property\n",
    "    def x(self):\n",
    "        return self._x\n",
    "    @property\n",
    "    def y(self):\n",
    "        return self._y\n",
    "    #setters\n",
    "    @x.setter\n",
    "    def x(self,newx):\n",
    "        if isinstance(newx,int):\n",
    "            self._x=newx\n",
    "        else:\n",
    "            raise ValueError('x can only be int')\n",
    "    @y.setter\n",
    "    def y(self,newy):\n",
    "        if isinstance(newy,int):\n",
    "            self._y=newy\n",
    "        else:\n",
    "            raise ValueError('y can only be int')\n",
    "    def distance(self, other):\n",
    "        \"\"\" Returns the euclidean distance between two points \"\"\"\n",
    "        x_diff_sq = (self.x-other.x)**2\n",
    "        y_diff_sq = (self.y-other.y)**2\n",
    "        return (x_diff_sq + y_diff_sq)**0.5"
   ]
  },
  {
   "cell_type": "code",
   "execution_count": 11,
   "id": "16efb8a6",
   "metadata": {},
   "outputs": [],
   "source": [
    "cod2=Coordinate()"
   ]
  },
  {
   "cell_type": "code",
   "execution_count": 12,
   "id": "59060d77",
   "metadata": {},
   "outputs": [
    {
     "name": "stdout",
     "output_type": "stream",
     "text": [
      "<0,0>\n"
     ]
    }
   ],
   "source": [
    "print(cod2)"
   ]
  },
  {
   "cell_type": "code",
   "execution_count": 13,
   "id": "8ded45dc",
   "metadata": {},
   "outputs": [],
   "source": [
    "cod2.x=2\n",
    "cod2.y=4"
   ]
  },
  {
   "cell_type": "code",
   "execution_count": 16,
   "id": "da221ca6",
   "metadata": {},
   "outputs": [
    {
     "name": "stdout",
     "output_type": "stream",
     "text": [
      "<2,4>\n"
     ]
    }
   ],
   "source": [
    "print(cod2)"
   ]
  },
  {
   "cell_type": "code",
   "execution_count": 14,
   "id": "c33f454c",
   "metadata": {},
   "outputs": [
    {
     "ename": "ValueError",
     "evalue": "x can only be int",
     "output_type": "error",
     "traceback": [
      "\u001b[1;31m---------------------------------------------------------------------------\u001b[0m",
      "\u001b[1;31mValueError\u001b[0m                                Traceback (most recent call last)",
      "\u001b[1;32m~\\AppData\\Local\\Temp/ipykernel_19152/1884701442.py\u001b[0m in \u001b[0;36m<module>\u001b[1;34m\u001b[0m\n\u001b[1;32m----> 1\u001b[1;33m \u001b[0mcod2\u001b[0m\u001b[1;33m.\u001b[0m\u001b[0mx\u001b[0m\u001b[1;33m=\u001b[0m\u001b[1;34m'harry'\u001b[0m\u001b[1;33m\u001b[0m\u001b[1;33m\u001b[0m\u001b[0m\n\u001b[0m",
      "\u001b[1;32m~\\AppData\\Local\\Temp/ipykernel_19152/166035688.py\u001b[0m in \u001b[0;36mx\u001b[1;34m(self, newx)\u001b[0m\n\u001b[0;32m     21\u001b[0m             \u001b[0mself\u001b[0m\u001b[1;33m.\u001b[0m\u001b[0m_x\u001b[0m\u001b[1;33m=\u001b[0m\u001b[0mnewx\u001b[0m\u001b[1;33m\u001b[0m\u001b[1;33m\u001b[0m\u001b[0m\n\u001b[0;32m     22\u001b[0m         \u001b[1;32melse\u001b[0m\u001b[1;33m:\u001b[0m\u001b[1;33m\u001b[0m\u001b[1;33m\u001b[0m\u001b[0m\n\u001b[1;32m---> 23\u001b[1;33m             \u001b[1;32mraise\u001b[0m \u001b[0mValueError\u001b[0m\u001b[1;33m(\u001b[0m\u001b[1;34m'x can only be int'\u001b[0m\u001b[1;33m)\u001b[0m\u001b[1;33m\u001b[0m\u001b[1;33m\u001b[0m\u001b[0m\n\u001b[0m\u001b[0;32m     24\u001b[0m     \u001b[1;33m@\u001b[0m\u001b[0my\u001b[0m\u001b[1;33m.\u001b[0m\u001b[0msetter\u001b[0m\u001b[1;33m\u001b[0m\u001b[1;33m\u001b[0m\u001b[0m\n\u001b[0;32m     25\u001b[0m     \u001b[1;32mdef\u001b[0m \u001b[0my\u001b[0m\u001b[1;33m(\u001b[0m\u001b[0mself\u001b[0m\u001b[1;33m,\u001b[0m\u001b[0mnewy\u001b[0m\u001b[1;33m)\u001b[0m\u001b[1;33m:\u001b[0m\u001b[1;33m\u001b[0m\u001b[1;33m\u001b[0m\u001b[0m\n",
      "\u001b[1;31mValueError\u001b[0m: x can only be int"
     ]
    }
   ],
   "source": [
    "cod2.x='harry'"
   ]
  },
  {
   "cell_type": "code",
   "execution_count": 15,
   "id": "9fdd0570",
   "metadata": {},
   "outputs": [],
   "source": [
    "cod3=Coordinate(5,-6)"
   ]
  },
  {
   "cell_type": "code",
   "execution_count": 16,
   "id": "b9731933",
   "metadata": {},
   "outputs": [
    {
     "data": {
      "text/plain": [
       "10.44030650891055"
      ]
     },
     "execution_count": 16,
     "metadata": {},
     "output_type": "execute_result"
    }
   ],
   "source": [
    "cod3.distance(cod2)"
   ]
  },
  {
   "cell_type": "code",
   "execution_count": 17,
   "id": "c9393f22",
   "metadata": {},
   "outputs": [
    {
     "name": "stdout",
     "output_type": "stream",
     "text": [
      "Name: madan\n",
      "House: dtu\n"
     ]
    },
    {
     "ename": "ValueError",
     "evalue": "Invalid house",
     "output_type": "error",
     "traceback": [
      "\u001b[1;31m---------------------------------------------------------------------------\u001b[0m",
      "\u001b[1;31mValueError\u001b[0m                                Traceback (most recent call last)",
      "\u001b[1;32m~\\AppData\\Local\\Temp/ipykernel_19152/3115238263.py\u001b[0m in \u001b[0;36m<module>\u001b[1;34m\u001b[0m\n\u001b[0;32m     34\u001b[0m \u001b[1;33m\u001b[0m\u001b[0m\n\u001b[0;32m     35\u001b[0m \u001b[1;32mif\u001b[0m \u001b[0m__name__\u001b[0m \u001b[1;33m==\u001b[0m \u001b[1;34m\"__main__\"\u001b[0m\u001b[1;33m:\u001b[0m\u001b[1;33m\u001b[0m\u001b[1;33m\u001b[0m\u001b[0m\n\u001b[1;32m---> 36\u001b[1;33m     \u001b[0mmain\u001b[0m\u001b[1;33m(\u001b[0m\u001b[1;33m)\u001b[0m\u001b[1;33m\u001b[0m\u001b[1;33m\u001b[0m\u001b[0m\n\u001b[0m",
      "\u001b[1;32m~\\AppData\\Local\\Temp/ipykernel_19152/3115238263.py\u001b[0m in \u001b[0;36mmain\u001b[1;34m()\u001b[0m\n\u001b[0;32m     23\u001b[0m \u001b[1;33m\u001b[0m\u001b[0m\n\u001b[0;32m     24\u001b[0m \u001b[1;32mdef\u001b[0m \u001b[0mmain\u001b[0m\u001b[1;33m(\u001b[0m\u001b[1;33m)\u001b[0m\u001b[1;33m:\u001b[0m\u001b[1;33m\u001b[0m\u001b[1;33m\u001b[0m\u001b[0m\n\u001b[1;32m---> 25\u001b[1;33m     \u001b[0mstudent\u001b[0m \u001b[1;33m=\u001b[0m \u001b[0mget_student\u001b[0m\u001b[1;33m(\u001b[0m\u001b[1;33m)\u001b[0m\u001b[1;33m\u001b[0m\u001b[1;33m\u001b[0m\u001b[0m\n\u001b[0m\u001b[0;32m     26\u001b[0m     \u001b[0mprint\u001b[0m\u001b[1;33m(\u001b[0m\u001b[0mstudent\u001b[0m\u001b[1;33m)\u001b[0m\u001b[1;33m\u001b[0m\u001b[1;33m\u001b[0m\u001b[0m\n\u001b[0;32m     27\u001b[0m \u001b[1;33m\u001b[0m\u001b[0m\n",
      "\u001b[1;32m~\\AppData\\Local\\Temp/ipykernel_19152/3115238263.py\u001b[0m in \u001b[0;36mget_student\u001b[1;34m()\u001b[0m\n\u001b[0;32m     30\u001b[0m     \u001b[0mname\u001b[0m \u001b[1;33m=\u001b[0m \u001b[0minput\u001b[0m\u001b[1;33m(\u001b[0m\u001b[1;34m\"Name: \"\u001b[0m\u001b[1;33m)\u001b[0m\u001b[1;33m\u001b[0m\u001b[1;33m\u001b[0m\u001b[0m\n\u001b[0;32m     31\u001b[0m     \u001b[0mhouse\u001b[0m \u001b[1;33m=\u001b[0m \u001b[0minput\u001b[0m\u001b[1;33m(\u001b[0m\u001b[1;34m\"House: \"\u001b[0m\u001b[1;33m)\u001b[0m\u001b[1;33m\u001b[0m\u001b[1;33m\u001b[0m\u001b[0m\n\u001b[1;32m---> 32\u001b[1;33m     \u001b[1;32mreturn\u001b[0m \u001b[0mStudent\u001b[0m\u001b[1;33m(\u001b[0m\u001b[0mname\u001b[0m\u001b[1;33m,\u001b[0m \u001b[0mhouse\u001b[0m\u001b[1;33m)\u001b[0m\u001b[1;33m\u001b[0m\u001b[1;33m\u001b[0m\u001b[0m\n\u001b[0m\u001b[0;32m     33\u001b[0m \u001b[1;33m\u001b[0m\u001b[0m\n\u001b[0;32m     34\u001b[0m \u001b[1;33m\u001b[0m\u001b[0m\n",
      "\u001b[1;32m~\\AppData\\Local\\Temp/ipykernel_19152/3115238263.py\u001b[0m in \u001b[0;36m__init__\u001b[1;34m(self, name, house)\u001b[0m\n\u001b[0;32m      4\u001b[0m             \u001b[1;32mraise\u001b[0m \u001b[0mValueError\u001b[0m\u001b[1;33m(\u001b[0m\u001b[1;34m\"Invalid name\"\u001b[0m\u001b[1;33m)\u001b[0m\u001b[1;33m\u001b[0m\u001b[1;33m\u001b[0m\u001b[0m\n\u001b[0;32m      5\u001b[0m         \u001b[0mself\u001b[0m\u001b[1;33m.\u001b[0m\u001b[0mname\u001b[0m \u001b[1;33m=\u001b[0m \u001b[0mname\u001b[0m\u001b[1;33m\u001b[0m\u001b[1;33m\u001b[0m\u001b[0m\n\u001b[1;32m----> 6\u001b[1;33m         \u001b[0mself\u001b[0m\u001b[1;33m.\u001b[0m\u001b[0mhouse\u001b[0m \u001b[1;33m=\u001b[0m \u001b[0mhouse\u001b[0m\u001b[1;33m\u001b[0m\u001b[1;33m\u001b[0m\u001b[0m\n\u001b[0m\u001b[0;32m      7\u001b[0m \u001b[1;33m\u001b[0m\u001b[0m\n\u001b[0;32m      8\u001b[0m     \u001b[1;32mdef\u001b[0m \u001b[0m__str__\u001b[0m\u001b[1;33m(\u001b[0m\u001b[0mself\u001b[0m\u001b[1;33m)\u001b[0m\u001b[1;33m:\u001b[0m\u001b[1;33m\u001b[0m\u001b[1;33m\u001b[0m\u001b[0m\n",
      "\u001b[1;32m~\\AppData\\Local\\Temp/ipykernel_19152/3115238263.py\u001b[0m in \u001b[0;36mhouse\u001b[1;34m(self, house)\u001b[0m\n\u001b[0;32m     18\u001b[0m     \u001b[1;32mdef\u001b[0m \u001b[0mhouse\u001b[0m\u001b[1;33m(\u001b[0m\u001b[0mself\u001b[0m\u001b[1;33m,\u001b[0m \u001b[0mhouse\u001b[0m\u001b[1;33m)\u001b[0m\u001b[1;33m:\u001b[0m\u001b[1;33m\u001b[0m\u001b[1;33m\u001b[0m\u001b[0m\n\u001b[0;32m     19\u001b[0m         \u001b[1;32mif\u001b[0m \u001b[0mhouse\u001b[0m \u001b[1;32mnot\u001b[0m \u001b[1;32min\u001b[0m \u001b[1;33m[\u001b[0m\u001b[1;34m\"Gryffindor\"\u001b[0m\u001b[1;33m,\u001b[0m \u001b[1;34m\"Hufflepuff\"\u001b[0m\u001b[1;33m,\u001b[0m \u001b[1;34m\"Ravenclaw\"\u001b[0m\u001b[1;33m,\u001b[0m \u001b[1;34m\"Slytherin\"\u001b[0m\u001b[1;33m]\u001b[0m\u001b[1;33m:\u001b[0m\u001b[1;33m\u001b[0m\u001b[1;33m\u001b[0m\u001b[0m\n\u001b[1;32m---> 20\u001b[1;33m             \u001b[1;32mraise\u001b[0m \u001b[0mValueError\u001b[0m\u001b[1;33m(\u001b[0m\u001b[1;34m\"Invalid house\"\u001b[0m\u001b[1;33m)\u001b[0m\u001b[1;33m\u001b[0m\u001b[1;33m\u001b[0m\u001b[0m\n\u001b[0m\u001b[0;32m     21\u001b[0m         \u001b[0mself\u001b[0m\u001b[1;33m.\u001b[0m\u001b[0m_house\u001b[0m \u001b[1;33m=\u001b[0m \u001b[0mhouse\u001b[0m\u001b[1;33m\u001b[0m\u001b[1;33m\u001b[0m\u001b[0m\n\u001b[0;32m     22\u001b[0m \u001b[1;33m\u001b[0m\u001b[0m\n",
      "\u001b[1;31mValueError\u001b[0m: Invalid house"
     ]
    }
   ],
   "source": [
    "class Student:\n",
    "    def __init__(self, name, house):\n",
    "        if not name:\n",
    "            raise ValueError(\"Invalid name\")\n",
    "        self.name = name\n",
    "        self.house = house\n",
    "\n",
    "    def __str__(self):\n",
    "        return f\"{self.name} from {self.house}\"\n",
    "\n",
    "    # Getter for house\n",
    "    @property\n",
    "    def house(self):\n",
    "        return self._house\n",
    "\n",
    "    # Setter for house\n",
    "    @house.setter\n",
    "    def house(self, house):\n",
    "        if house not in [\"Gryffindor\", \"Hufflepuff\", \"Ravenclaw\", \"Slytherin\"]:\n",
    "            raise ValueError(\"Invalid house\")\n",
    "        self._house = house\n",
    "\n",
    "\n",
    "def main():\n",
    "    student = get_student()\n",
    "    print(student)\n",
    "\n",
    "\n",
    "def get_student():\n",
    "    name = input(\"Name: \")\n",
    "    house = input(\"House: \")\n",
    "    return Student(name, house)\n",
    "\n",
    "\n",
    "if __name__ == \"__main__\":\n",
    "    main()"
   ]
  },
  {
   "cell_type": "code",
   "execution_count": null,
   "id": "d6e5273b",
   "metadata": {},
   "outputs": [],
   "source": []
  }
 ],
 "metadata": {
  "kernelspec": {
   "display_name": "Python 3.10.4 ('Python': venv)",
   "language": "python",
   "name": "python3"
  },
  "language_info": {
   "codemirror_mode": {
    "name": "ipython",
    "version": 3
   },
   "file_extension": ".py",
   "mimetype": "text/x-python",
   "name": "python",
   "nbconvert_exporter": "python",
   "pygments_lexer": "ipython3",
   "version": "3.10.4"
  },
  "vscode": {
   "interpreter": {
    "hash": "2cd22892412358948f31e9890141ecfc6cbdaaa9c5b83fbafb7e1eb871fcd492"
   }
  }
 },
 "nbformat": 4,
 "nbformat_minor": 5
}
