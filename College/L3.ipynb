{
 "cells": [
  {
   "cell_type": "markdown",
   "id": "04d9e97e",
   "metadata": {},
   "source": [
    "# Strings"
   ]
  },
  {
   "cell_type": "code",
   "execution_count": 2,
   "id": "f467f434",
   "metadata": {},
   "outputs": [
    {
     "name": "stdout",
     "output_type": "stream",
     "text": [
      "97\n"
     ]
    }
   ],
   "source": [
    "# Dealing with long string\n",
    "x=\"india is a great country with rich past and promising future.\" \\\n",
    "\"the last decade has been phenomenal.\"\n",
    "print(len(x))"
   ]
  },
  {
   "cell_type": "code",
   "execution_count": 6,
   "id": "1692fb86",
   "metadata": {},
   "outputs": [
    {
     "name": "stdout",
     "output_type": "stream",
     "text": [
      "i\n",
      "y\n",
      ".\n",
      "i\n"
     ]
    }
   ],
   "source": [
    "#can access different literals of a string\n",
    "print(x[0])\n",
    "print(x[23])\n",
    "print(x[-1])\n",
    "print(x[-97])"
   ]
  },
  {
   "cell_type": "code",
   "execution_count": 8,
   "id": "cc901468",
   "metadata": {},
   "outputs": [
    {
     "ename": "TypeError",
     "evalue": "'str' object does not support item assignment",
     "output_type": "error",
     "traceback": [
      "\u001b[1;31m---------------------------------------------------------------------------\u001b[0m",
      "\u001b[1;31mTypeError\u001b[0m                                 Traceback (most recent call last)",
      "\u001b[1;32m~\\AppData\\Local\\Temp/ipykernel_29484/4070050400.py\u001b[0m in \u001b[0;36m<module>\u001b[1;34m\u001b[0m\n\u001b[0;32m      1\u001b[0m \u001b[1;31m# strings are immutable like integers\u001b[0m\u001b[1;33m\u001b[0m\u001b[1;33m\u001b[0m\u001b[0m\n\u001b[1;32m----> 2\u001b[1;33m \u001b[0mx\u001b[0m\u001b[1;33m[\u001b[0m\u001b[1;36m0\u001b[0m\u001b[1;33m]\u001b[0m\u001b[1;33m=\u001b[0m\u001b[1;34m'I'\u001b[0m\u001b[1;33m\u001b[0m\u001b[1;33m\u001b[0m\u001b[0m\n\u001b[0m",
      "\u001b[1;31mTypeError\u001b[0m: 'str' object does not support item assignment"
     ]
    }
   ],
   "source": [
    "# strings are immutable like integers\n",
    "x[0]='I'"
   ]
  },
  {
   "cell_type": "code",
   "execution_count": 10,
   "id": "55c5104a",
   "metadata": {},
   "outputs": [
    {
     "name": "stdout",
     "output_type": "stream",
     "text": [
      "new york\n"
     ]
    }
   ],
   "source": [
    "# string concatenation through + operator\n",
    "str1='new'\n",
    "str2='york'\n",
    "newstr=str1+' '+str2\n",
    "print(newstr)"
   ]
  },
  {
   "attachments": {
    "image-3.png": {
     "image/png": "[encoded data removed]"
    }
   },
   "cell_type": "markdown",
   "id": "79d467d8",
   "metadata": {},
   "source": [
    "# Lists Basics\n",
    "\n",
    "\n",
    "    Integer or strings, If changed, can’t be recovered unless use another variable to store\n",
    "    the old data.\n",
    "    \n",
    "    Lists are mutable.\n",
    "    \n",
    "    It is suitable for sequential data with ecrtain order.\n",
    "    \n",
    " - Creating a list:\n",
    "         \n",
    "![image-3.png](attachment:image-3.png)\n",
    "\n"
   ]
  },
  {
   "cell_type": "code",
   "execution_count": 24,
   "id": "f1b6bfde",
   "metadata": {},
   "outputs": [
    {
     "name": "stdout",
     "output_type": "stream",
     "text": [
      "['ram', 'vinoy', '2.5', 2.5, -3, True]\n"
     ]
    }
   ],
   "source": [
    "lt1 = [\"ram\",'vinoy','2.5',2.5,-3,True]\n",
    "print(lt1)"
   ]
  },
  {
   "cell_type": "code",
   "execution_count": 25,
   "id": "9fa086b6",
   "metadata": {},
   "outputs": [
    {
     "name": "stdout",
     "output_type": "stream",
     "text": [
      "ram True True\n",
      "['ram', 'vinoy', '2.5', 2.5, -3, False]\n",
      "['ram', 'vinoy', '2.5', 2.5, -3, False, 'abc', -5]\n"
     ]
    }
   ],
   "source": [
    "# Accesing the list elements\n",
    "\n",
    "print(lt1[0],lt1[-1],lt1[5])\n",
    "\n",
    "# alter the contents of the list\n",
    "\n",
    "lt1[-1]=False\n",
    "print(lt1)\n",
    "\n",
    "# concatenate two lists\n",
    "\n",
    "lt2= lt1 + ['abc', -5]\n",
    "\n",
    "print(lt2)"
   ]
  },
  {
   "cell_type": "markdown",
   "id": "accc0584",
   "metadata": {},
   "source": [
    " -> Adding and removing list elements\n",
    " \n",
    " - lt1.append(value): add the value to the end of the list lt1\n",
    " - lt1.pop(i): Remove the content of ith index from the list lt1\n",
    " - lt1.remove(value): Remove the value from list lt1\n",
    " - lt1.extend([value 1, value 2]): append multiple values at the end of the list lt1\n",
    " - lt1.insert(i, [value 1, value2, valu3....]): insert a value or a list at a ith index in list lt1\n",
    " \n",
    " \n",
    " Will discuss sorting, reversal and looping later"
   ]
  },
  {
   "cell_type": "code",
   "execution_count": 26,
   "id": "c9258001",
   "metadata": {},
   "outputs": [
    {
     "name": "stdout",
     "output_type": "stream",
     "text": [
      "['ram', 'vinoy', '2.5', 2.5, -3, False, 'abc', -5, True]\n",
      "['ram', 'vinoy', '2.5', 2.5, -3, False, 'abc', -5, True, 4, 5]\n",
      "['ram', [-1, -11, -111], 'vinoy', '2.5', 2.5, -3, False]\n",
      "['ram', [-1, -11, -111], '2.5', 2.5, -3, False]\n"
     ]
    }
   ],
   "source": [
    "lt2.append(True)\n",
    "print(lt2)\n",
    "lt2.extend([4,5])\n",
    "print(lt2)\n",
    "lt1.insert(1,[-1,-11,-111])\n",
    "print(lt1)\n",
    "lt1.pop(2)\n",
    "print(lt1)"
   ]
  },
  {
   "cell_type": "code",
   "execution_count": 38,
   "id": "10bd0825",
   "metadata": {},
   "outputs": [
    {
     "name": "stdout",
     "output_type": "stream",
     "text": [
      "7\n",
      "-9\n",
      "6\n",
      "9\n",
      "4\n",
      "2\n"
     ]
    }
   ],
   "source": [
    "#Some more useful methods\n",
    "\n",
    "lt4=[1,4,5,6,-2,-9, 4]\n",
    "\n",
    "print(len(lt4))\n",
    "\n",
    "print(min(lt4))\n",
    "\n",
    "print(max(lt4))\n",
    "\n",
    "print(sum(lt4))\n",
    "\n",
    "# search the index of a value\n",
    "print(lt4.index(-2))\n",
    "\n",
    "# count the number of times a value is placed in the list\n",
    "\n",
    "print(lt4.count(4))"
   ]
  },
  {
   "attachments": {
    "image.png": {
     "image/png": "[encoded data removed]"
    }
   },
   "cell_type": "markdown",
   "id": "f36124ee",
   "metadata": {},
   "source": [
    "# Tuple basics\n",
    "\n",
    "![image.png](attachment:image.png)\n",
    "\n",
    "- Useful for storing sequential data which should not be changed and also used for returning multiple values from a function."
   ]
  },
  {
   "cell_type": "code",
   "execution_count": 42,
   "id": "9fda7cbf",
   "metadata": {},
   "outputs": [
    {
     "name": "stdout",
     "output_type": "stream",
     "text": [
      "6\n",
      "(2, 3, 6)\n",
      "(2, 3, 6, 9, 10, 34)\n",
      "['ram', [-1, -11, -111], '2.5', 2.5, -3, False, 2, 3, 6, 9, 10, 34]\n"
     ]
    },
    {
     "ename": "TypeError",
     "evalue": "'tuple' object does not support item assignment",
     "output_type": "error",
     "traceback": [
      "\u001b[1;31m---------------------------------------------------------------------------\u001b[0m",
      "\u001b[1;31mTypeError\u001b[0m                                 Traceback (most recent call last)",
      "\u001b[1;32m~\\AppData\\Local\\Temp/ipykernel_29484/299174633.py\u001b[0m in \u001b[0;36m<module>\u001b[1;34m\u001b[0m\n\u001b[0;32m     14\u001b[0m \u001b[1;33m\u001b[0m\u001b[0m\n\u001b[0;32m     15\u001b[0m \u001b[1;31m# try\u001b[0m\u001b[1;33m\u001b[0m\u001b[1;33m\u001b[0m\u001b[0m\n\u001b[1;32m---> 16\u001b[1;33m \u001b[0mtpl1\u001b[0m\u001b[1;33m[\u001b[0m\u001b[1;33m-\u001b[0m\u001b[1;36m1\u001b[0m\u001b[1;33m]\u001b[0m\u001b[1;33m=\u001b[0m\u001b[1;36m3\u001b[0m\u001b[1;33m\u001b[0m\u001b[1;33m\u001b[0m\u001b[0m\n\u001b[0m",
      "\u001b[1;31mTypeError\u001b[0m: 'tuple' object does not support item assignment"
     ]
    }
   ],
   "source": [
    "tpl1=(2,3,6,9)\n",
    "\n",
    "print(tpl1[2])\n",
    "\n",
    "\n",
    "print(tpl1[:-1])\n",
    "\n",
    "tpl1=tpl1+(10,34)\n",
    "\n",
    "print(tpl1)\n",
    "\n",
    "lt1.extend(tpl1)\n",
    "print(lt1)\n",
    "\n",
    "# try \n",
    "tpl1[-1]=3\n"
   ]
  },
  {
   "cell_type": "markdown",
   "id": "7ad659ff",
   "metadata": {},
   "source": [
    "- Swap two numbers using tuple"
   ]
  },
  {
   "attachments": {
    "image-2.png": {
     "image/png": "[encoded data removed]"
    },
    "image.png": {
     "image/png": "[encoded data removed]"
    }
   },
   "cell_type": "markdown",
   "id": "b8dbff3d",
   "metadata": {},
   "source": [
    "# Set Baics\n",
    "![image.png](attachment:image.png)\n",
    "\n",
    "\n",
    "![image-2.png](attachment:image-2.png)"
   ]
  },
  {
   "cell_type": "code",
   "execution_count": 45,
   "id": "e6f93abb",
   "metadata": {},
   "outputs": [
    {
     "name": "stdout",
     "output_type": "stream",
     "text": [
      "{4, 5}\n"
     ]
    },
    {
     "ename": "TypeError",
     "evalue": "'set' object is not subscriptable",
     "output_type": "error",
     "traceback": [
      "\u001b[1;31m---------------------------------------------------------------------------\u001b[0m",
      "\u001b[1;31mTypeError\u001b[0m                                 Traceback (most recent call last)",
      "\u001b[1;32m~\\AppData\\Local\\Temp/ipykernel_29484/1132679396.py\u001b[0m in \u001b[0;36m<module>\u001b[1;34m\u001b[0m\n\u001b[0;32m      2\u001b[0m \u001b[0mprint\u001b[0m\u001b[1;33m(\u001b[0m\u001b[0ma\u001b[0m\u001b[1;33m)\u001b[0m\u001b[1;33m\u001b[0m\u001b[1;33m\u001b[0m\u001b[0m\n\u001b[0;32m      3\u001b[0m \u001b[1;31m#As there is no order trying to access element with particular index will not work out\u001b[0m\u001b[1;33m\u001b[0m\u001b[1;33m\u001b[0m\u001b[0m\n\u001b[1;32m----> 4\u001b[1;33m \u001b[0mprint\u001b[0m\u001b[1;33m(\u001b[0m\u001b[0ma\u001b[0m\u001b[1;33m[\u001b[0m\u001b[1;36m1\u001b[0m\u001b[1;33m]\u001b[0m\u001b[1;33m)\u001b[0m\u001b[1;33m\u001b[0m\u001b[1;33m\u001b[0m\u001b[0m\n\u001b[0m",
      "\u001b[1;31mTypeError\u001b[0m: 'set' object is not subscriptable"
     ]
    }
   ],
   "source": [
    "a = {4,4,5}\n",
    "print(a)\n",
    "#As there is no order trying to access element with particular index will not work out\n",
    "print(a[1])"
   ]
  },
  {
   "cell_type": "code",
   "execution_count": 46,
   "id": "429b94c6",
   "metadata": {},
   "outputs": [
    {
     "name": "stdout",
     "output_type": "stream",
     "text": [
      "{4, 5, 6}\n"
     ]
    }
   ],
   "source": [
    "# sets are mutable \n",
    "a.add(6)\n",
    "print(a)"
   ]
  },
  {
   "cell_type": "code",
   "execution_count": 48,
   "id": "3f6edcf0",
   "metadata": {},
   "outputs": [
    {
     "name": "stdout",
     "output_type": "stream",
     "text": [
      "{9, 3, 5, 6}\n",
      "[9, 3, 5, 6]\n"
     ]
    }
   ],
   "source": [
    "# sets can be used for removing duplicates from a list\n",
    "\n",
    "list1=[5,6,9,3,6]\n",
    "# convert list to set\n",
    "set1=set(list1)\n",
    "print(set1)\n",
    "# again convert the set to list\n",
    "list1=list(set1)\n",
    "print(list1)"
   ]
  },
  {
   "cell_type": "markdown",
   "id": "2b276c42",
   "metadata": {},
   "source": [
    "# Dictionary basics\n",
    "\n",
    "- Suitable for data without particular order like student names and their grades. Accessing is done through key (no index)"
   ]
  },
  {
   "cell_type": "code",
   "execution_count": 56,
   "id": "a4228194",
   "metadata": {},
   "outputs": [
    {
     "data": {
      "text/plain": [
       "True"
      ]
     },
     "execution_count": 56,
     "metadata": {},
     "output_type": "execute_result"
    }
   ],
   "source": [
    "# multiple ways to define\n",
    "a = dict(one=1, two=2, three=3)\n",
    "# preferable way\n",
    "b = {'one': 1, 'two': 2, 'three': 3}  \n",
    "# sometines zipping the key list and value list is suitable for larger data\n",
    "c = dict(zip(['one', 'two', 'three'], [1, 2, 3]))\n",
    "# can also be defined through tuples of key and value pair\n",
    "d = dict([('two', 2), ('one', 1), ('three', 3)])\n",
    "e = dict({'three': 3, 'one': 1, 'two': 2})\n",
    "\n",
    "# all are valid, test\n",
    "a==c\n",
    "\n",
    "\n"
   ]
  },
  {
   "cell_type": "code",
   "execution_count": 55,
   "id": "77d746da",
   "metadata": {},
   "outputs": [
    {
     "name": "stdout",
     "output_type": "stream",
     "text": [
      "2\n"
     ]
    }
   ],
   "source": [
    "print(b['two'])"
   ]
  }
 ],
 "metadata": {
  "kernelspec": {
   "display_name": "Python 3.10.4 ('Python': venv)",
   "language": "python",
   "name": "python3"
  },
  "language_info": {
   "codemirror_mode": {
    "name": "ipython",
    "version": 3
   },
   "file_extension": ".py",
   "mimetype": "text/x-python",
   "name": "python",
   "nbconvert_exporter": "python",
   "pygments_lexer": "ipython3",
   "version": "3.10.4"
  },
  "vscode": {
   "interpreter": {
    "hash": "2cd22892412358948f31e9890141ecfc6cbdaaa9c5b83fbafb7e1eb871fcd492"
   }
  }
 },
 "nbformat": 4,
 "nbformat_minor": 5
}
