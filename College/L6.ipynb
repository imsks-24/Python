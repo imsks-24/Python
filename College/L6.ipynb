{
 "cells": [
  {
   "cell_type": "markdown",
   "id": "7bf23055",
   "metadata": {},
   "source": [
    "# Skipping and stopping in loops\n",
    "\n",
    "* <span style='color:red'>break:</span>\tTerminate the current loop. Use the break statement to come out of the  loop instantly.\n",
    "* <span style='color:red'>continue:</span>\tSkip the current iteration of a loop and move to the next iteration\n",
    "* <span style='color:red'>pass:</span>\tDo nothing. Ignore the condition in which it occurred and proceed to run the program as usual"
   ]
  },
  {
   "cell_type": "markdown",
   "id": "ba593058",
   "metadata": {},
   "source": [
    "## break statement"
   ]
  },
  {
   "cell_type": "code",
   "execution_count": 2,
   "id": "8496eb86",
   "metadata": {},
   "outputs": [
    {
     "name": "stdout",
     "output_type": "stream",
     "text": [
      "current number 10\n",
      "current number 40\n",
      "current number 120\n"
     ]
    }
   ],
   "source": [
    "numbers = [10, 40, 120, 230]\n",
    "for i in numbers:\n",
    "    if i > 220:\n",
    "        break\n",
    "    print('current number', i)"
   ]
  },
  {
   "cell_type": "code",
   "execution_count": 5,
   "id": "424fbef5",
   "metadata": {},
   "outputs": [
    {
     "name": "stdout",
     "output_type": "stream",
     "text": [
      "39\n"
     ]
    }
   ],
   "source": [
    "dic1={'x':45,'y':37,'z':39,'p':28}\n",
    "for k in dic1:\n",
    "    if k == 'z':\n",
    "        print(dic1[k])\n",
    "        break\n",
    "        "
   ]
  },
  {
   "cell_type": "code",
   "execution_count": 6,
   "id": "3dc2d8d9",
   "metadata": {},
   "outputs": [
    {
     "name": "stdout",
     "output_type": "stream",
     "text": [
      "hi\n",
      "hi\n",
      "hi\n",
      "c3\n",
      "hi\n"
     ]
    }
   ],
   "source": [
    "# break inner loop in nested loop\n",
    "\n",
    "dic1={'x':'a1','y':'b2','z':'c3','p':'d4'}\n",
    "for k in dic1:\n",
    "    print('hi')\n",
    "    for j in dic1[k]:\n",
    "        if j == '3':\n",
    "            print(dic1[k])\n",
    "            break"
   ]
  },
  {
   "cell_type": "code",
   "execution_count": 28,
   "id": "6797f065",
   "metadata": {},
   "outputs": [
    {
     "name": "stdout",
     "output_type": "stream",
     "text": [
      "Multiplication table of 1\n",
      "1 2 3 4 5 6 7 8 9 10 \n",
      "Multiplication table of 2\n",
      "2 4 6 8 10 12 14 16 18 20 \n",
      "Multiplication table of 3\n",
      "3 6 9 12 15 18 21 24 27 30 \n",
      "Multiplication table of 4\n",
      "4 8 12 16 20 24 28 32 36 40 \n",
      "Multiplication table of 5\n",
      "5 10 15 20 25 30 35 40 45 50 \n"
     ]
    }
   ],
   "source": [
    "# break outer loop in nested loop\n",
    "for i in range(1, 11):\n",
    "    # condition to break outer loop\n",
    "    if i > 5:\n",
    "        break\n",
    "    print('Multiplication table of', i)\n",
    "    for j in range(1, 11):\n",
    "        print(i * j, end=' ')\n",
    "    print('')\n",
    "    \n"
   ]
  },
  {
   "cell_type": "markdown",
   "id": "4cc3c75f",
   "metadata": {},
   "source": [
    "# continue statement\n",
    "  "
   ]
  },
  {
   "cell_type": "code",
   "execution_count": 6,
   "id": "df3b92b6",
   "metadata": {},
   "outputs": [
    {
     "name": "stdout",
     "output_type": "stream",
     "text": [
      "INDIAISGREAT\n",
      "\n",
      "there are 3 words\n"
     ]
    }
   ],
   "source": [
    "# extract letters in uppercase without the spaces and count the words\n",
    "name = 'india is great'\n",
    "\n",
    "size = len(name)\n",
    "i = -1\n",
    "count =1\n",
    "# iterate loop till the last character\n",
    "while i < size - 1:\n",
    "    i = i + 1\n",
    "    # skip loop body if current character is space\n",
    "    if name[i]==' ':\n",
    "        count+=1\n",
    "        continue\n",
    "    # print current character\n",
    "    print(name[i].upper(), end='')\n",
    "print('\\n')    \n",
    "print(f\"there are {count} words\")"
   ]
  },
  {
   "cell_type": "code",
   "execution_count": 7,
   "id": "0740c2de",
   "metadata": {},
   "outputs": [
    {
     "name": "stdout",
     "output_type": "stream",
     "text": [
      "Element 0: 4\n",
      "Element 1: 8\n",
      "Element 2: 10\n",
      "Key 4 is a\n",
      "Key 8 is f\n",
      "Key 10 is b\n"
     ]
    }
   ],
   "source": [
    "# use of enumerate and items\n",
    "origins = [4, 8, 10]\n",
    "\n",
    "for (index, value) in enumerate(origins):\n",
    "    print(f'Element {index}: {value}')\n",
    "    \n",
    "origins1 = {4:'a', 8:'f', 10:'b'}\n",
    "\n",
    "for k, v in origins1.items():\n",
    "    print(f'Key {k} is {v}')"
   ]
  },
  {
   "attachments": {
    "image.png": {
     "image/png": "[encoded data removed]"
    }
   },
   "cell_type": "markdown",
   "id": "faa2b9b9",
   "metadata": {},
   "source": [
    "# Functions\n",
    "\n",
    "*Avoid writing redundant code, modular code devlopment, improve readability*\n",
    "\n",
    "![image.png](attachment:image.png)\n",
    "\n",
    "* A parameter is a function input specified in a function definition.\n",
    "* An argument is a value provided to a function's parameter during a function call. "
   ]
  },
  {
   "cell_type": "code",
   "execution_count": 10,
   "id": "93b02008",
   "metadata": {},
   "outputs": [
    {
     "name": "stdout",
     "output_type": "stream",
     "text": [
      "1,2 3, smile!\n",
      "\n",
      "\n",
      "o   o\n",
      "  o\n",
      " ooo \n",
      "\n",
      "\n",
      "Oh no...!\n"
     ]
    }
   ],
   "source": [
    "def get_face():    # the keyword def is used to create a new function\n",
    "    face_char = 'o   o\\n  o\\n ooo '\n",
    "    return face_char\n",
    "print('1,2 3, smile!')\n",
    "print('\\n')\n",
    "print(get_face())\n",
    "print('\\n')\n",
    "print('Oh no...!')"
   ]
  },
  {
   "cell_type": "code",
   "execution_count": 12,
   "id": "a24ef5f6",
   "metadata": {},
   "outputs": [],
   "source": [
    "# define a function for area of circle \n",
    "# use it for a different purpose like calorie in pizza\n",
    "def calc_circle_area(cir_diam):\n",
    "    pi_v = 3.14159265\n",
    "    cir_rad = cir_diam / 2.0\n",
    "    cir_area = pi_v * cir_rad * cir_rad\n",
    "    return cir_area"
   ]
  },
  {
   "cell_type": "code",
   "execution_count": 13,
   "id": "5d6689be",
   "metadata": {},
   "outputs": [
    {
     "name": "stdout",
     "output_type": "stream",
     "text": [
      "calorie per square inch pizza is:20\n",
      "your pizza has 2261.95 calories.\n"
     ]
    }
   ],
   "source": [
    "# calculate claorie of a 12 inch pizza\n",
    "def calc_pizza_calories(piz_diam):\n",
    "    cal_per_sq_in = float(input('calorie per square inch pizza is:'))    # Regular crust pepperoni pizza   \n",
    "    tot_cal = calc_circle_area(piz_diam) * cal_per_sq_in\n",
    "    return tot_cal\n",
    "\n",
    "print(f'your pizza has {calc_pizza_calories(12.0):.2f} calories.')"
   ]
  },
  {
   "cell_type": "code",
   "execution_count": 14,
   "id": "b3c73a2c",
   "metadata": {},
   "outputs": [
    {
     "name": "stdout",
     "output_type": "stream",
     "text": [
      "Today's Menu:\n",
      "   1) Samosa\n",
      "   2) Pakoda\n",
      "   3) Quit\n",
      "\n",
      "Enter choice: 2\n",
      "Order: \n",
      "Pakoda is 10 rupees\n",
      "\n",
      "Today's Menu:\n",
      "   1) Samosa\n",
      "   2) Pakoda\n",
      "   3) Quit\n",
      "\n",
      "Enter choice: 3\n",
      "Goodbye\n"
     ]
    }
   ],
   "source": [
    "# function with no return statement (void function)\n",
    "\n",
    "def print_menu():\n",
    "    print(\"Today's Menu:\")\n",
    "    print('   1) Samosa')\n",
    "    print('   2) Pakoda')\n",
    "    print('   3) Quit\\n')\n",
    "\n",
    "quit_program = False\n",
    "\n",
    "while not quit_program :\n",
    "    print_menu()\n",
    "    choice = int(input('Enter choice: '))\n",
    "    if choice == 3 :\n",
    "        print('Goodbye')\n",
    "        quit_program = True\n",
    "    else :\n",
    "        print('Order: ')\n",
    "        if choice == 1 :\n",
    "            print('Samosa is 7 rupees')\n",
    "        elif choice == 2 :\n",
    "            print('Pakoda is 10 rupees')\n",
    "        print()"
   ]
  },
  {
   "cell_type": "markdown",
   "id": "22a215de",
   "metadata": {},
   "source": [
    "# Dynamic typing in python\n"
   ]
  },
  {
   "cell_type": "code",
   "execution_count": 79,
   "id": "5804f230",
   "metadata": {},
   "outputs": [
    {
     "name": "stdout",
     "output_type": "stream",
     "text": [
      "-12\n",
      "-4-4\n"
     ]
    }
   ],
   "source": [
    "def mult(obj1,obj2):\n",
    "    return obj1*obj2\n",
    "print(f'{mult(3,-4)}')\n",
    "print(f\"{mult(2,'-4')}\")"
   ]
  },
  {
   "cell_type": "markdown",
   "id": "98420dbc",
   "metadata": {},
   "source": [
    "* <span style='color:red'>Python supports dynamic typing to decide the object    type as a program  executes.</span> \n",
    "* Ex: The call obj1 = 2 and obj2 = '-4' first assign with an integer type, and then a string type. \n",
    "* The type of the objects can change, depending on the value it references. \n",
    "* The interpreter is responsible for checking that all operations are valid as the program executes. mult('2','4') will through error.\n",
    "* C, C++, and Java use static typing, where the programmer define the type of every variable and every function parameter in a program.\n",
    "* dynamic typing provide flexibility at the cost of some unwanted bugs."
   ]
  },
  {
   "cell_type": "markdown",
   "id": "55e6ed55",
   "metadata": {},
   "source": [
    "## scope: local vs global"
   ]
  },
  {
   "cell_type": "code",
   "execution_count": 15,
   "id": "20c985ab",
   "metadata": {},
   "outputs": [
    {
     "ename": "NameError",
     "evalue": "name 'h' is not defined",
     "output_type": "error",
     "traceback": [
      "\u001b[1;31m---------------------------------------------------------------------------\u001b[0m",
      "\u001b[1;31mNameError\u001b[0m                                 Traceback (most recent call last)",
      "\u001b[1;32m~\\AppData\\Local\\Temp/ipykernel_7512/248285749.py\u001b[0m in \u001b[0;36m<module>\u001b[1;34m\u001b[0m\n\u001b[0;32m      6\u001b[0m     \u001b[1;32mreturn\u001b[0m \u001b[1;36m2\u001b[0m\u001b[1;33m*\u001b[0m\u001b[0mareac\u001b[0m\u001b[1;33m+\u001b[0m\u001b[0mareah\u001b[0m\u001b[1;33m\u001b[0m\u001b[1;33m\u001b[0m\u001b[0m\n\u001b[0;32m      7\u001b[0m \u001b[1;33m\u001b[0m\u001b[0m\n\u001b[1;32m----> 8\u001b[1;33m \u001b[0mprint\u001b[0m\u001b[1;33m(\u001b[0m\u001b[0mh\u001b[0m\u001b[1;33m+\u001b[0m\u001b[1;36m2\u001b[0m\u001b[1;33m)\u001b[0m \u001b[1;31m# beware, will create error h scope is not beyond the function\u001b[0m\u001b[1;33m\u001b[0m\u001b[1;33m\u001b[0m\u001b[0m\n\u001b[0m",
      "\u001b[1;31mNameError\u001b[0m: name 'h' is not defined"
     ]
    }
   ],
   "source": [
    "# by default the variables defined inside a function are local\n",
    "def cylar(r):\n",
    "    areac = 3.14*r**2\n",
    "    h=float(input(\"height of cylinder is: \"))  #local variable\n",
    "    areah = 2 * r * 3.14 * h\n",
    "    return 2*areac+areah\n",
    "\n",
    "print(h+2) # beware, will create error h scope is not beyond the function"
   ]
  },
  {
   "cell_type": "code",
   "execution_count": 16,
   "id": "2bf77dc8",
   "metadata": {},
   "outputs": [
    {
     "name": "stdout",
     "output_type": "stream",
     "text": [
      "2\n"
     ]
    }
   ],
   "source": [
    "# can change the scope to global\n",
    "h=0\n",
    "def cylar(r):\n",
    "    areac = 3.14*r**2\n",
    "    global h\n",
    "    h= float(input(\"height of cylinder is: \"))  #local variable\n",
    "    areah = 2 * r * 3.14 * h\n",
    "    return 2*areac+areah\n",
    "print(h+2)"
   ]
  },
  {
   "cell_type": "markdown",
   "id": "82e4a7ac",
   "metadata": {},
   "source": [
    "## keyword arguments\n",
    "*Python provides for keyword arguments that allow arguments to map \n",
    "    to parameters by name, instead of implicitly by position in the argument \n",
    "    list. When using keyword arguments, \n",
    "    the argument list does not need to follow a specific ordering.*"
   ]
  },
  {
   "cell_type": "code",
   "execution_count": 86,
   "id": "5e0dd3e1",
   "metadata": {},
   "outputs": [],
   "source": [
    "def print_student_data(name,roll,dob,age):\n",
    "    print('student name: ', name)\n",
    "    print('student roll no: ', name)\n",
    "    print('student date of birth: ', dob)\n",
    "    print('Age: ', age)"
   ]
  },
  {
   "cell_type": "code",
   "execution_count": 87,
   "id": "aeac0914",
   "metadata": {},
   "outputs": [
    {
     "name": "stdout",
     "output_type": "stream",
     "text": [
      "student name:  neha\n",
      "student roll no:  neha\n",
      "student date of birth:  20:02:1996\n",
      "Age:  19\n"
     ]
    }
   ],
   "source": [
    "\n",
    "print_student_data(dob='20:02:1996',roll='2020eez190',name='neha',age=19)"
   ]
  },
  {
   "cell_type": "markdown",
   "id": "1753e994",
   "metadata": {},
   "source": [
    "## default parameters"
   ]
  },
  {
   "cell_type": "code",
   "execution_count": 17,
   "id": "6971047c",
   "metadata": {},
   "outputs": [],
   "source": [
    "def mul_table(number, lb=1, ub=10):\n",
    "    for j in range(lb,ub+1):\n",
    "        print(number*j)\n"
   ]
  },
  {
   "cell_type": "code",
   "execution_count": 18,
   "id": "02c42d9e",
   "metadata": {},
   "outputs": [
    {
     "name": "stdout",
     "output_type": "stream",
     "text": [
      "4\n",
      "8\n",
      "12\n",
      "16\n",
      "20\n",
      "24\n",
      "28\n",
      "32\n",
      "36\n",
      "40\n",
      "ok\n",
      "\n",
      "\n",
      "12\n",
      "16\n",
      "20\n",
      "24\n",
      "28\n"
     ]
    }
   ],
   "source": [
    "mul_table(4)\n",
    "print('ok')\n",
    "print('\\n')\n",
    "mul_table(4,3,7)"
   ]
  },
  {
   "cell_type": "code",
   "execution_count": 19,
   "id": "25333bcd",
   "metadata": {},
   "outputs": [
    {
     "name": "stdout",
     "output_type": "stream",
     "text": [
      "dal on rice with fishfry \n",
      "mushroom on pizza with cheese olive pinepale \n"
     ]
    }
   ],
   "source": [
    "# unknown parameters at the time of function definition\n",
    "\n",
    "def print_meal(mainitem, topping, *args): \n",
    "    print(f'{topping} on {mainitem}', end=' ') \n",
    "    if len(args) > 0: \n",
    "        print('with', end=' ') \n",
    "    for extra in args: \n",
    "        print(extra, end=' ') \n",
    "    print('')\n",
    "\n",
    "print_meal('rice', 'dal', 'fishfry')\n",
    "print_meal('pizza', 'mushroom', 'cheese', 'olive', 'pinepale')\n"
   ]
  },
  {
   "cell_type": "code",
   "execution_count": 97,
   "id": "e7adc025",
   "metadata": {},
   "outputs": [
    {
     "data": {
      "text/plain": [
       "-2"
      ]
     },
     "execution_count": 97,
     "metadata": {},
     "output_type": "execute_result"
    }
   ],
   "source": [
    "# multiple return statements\n",
    "\n",
    "def minimum_num(a,b):\n",
    "    if a>b:\n",
    "        return b\n",
    "    return a\n",
    "minimum_num(-2,8)"
   ]
  },
  {
   "cell_type": "code",
   "execution_count": 99,
   "id": "06c1182d",
   "metadata": {},
   "outputs": [
    {
     "data": {
      "text/plain": [
       "(8, -2)"
      ]
     },
     "execution_count": 99,
     "metadata": {},
     "output_type": "execute_result"
    }
   ],
   "source": [
    "# multiple return values\n",
    "def minandmax_num(a,b):\n",
    "    if a>b:\n",
    "        maxnum=a\n",
    "        minnum=b\n",
    "    else:\n",
    "        maxnum=b\n",
    "        minnum=a\n",
    "    return maxnum,minnum\n",
    "        \n",
    "        \n",
    "    \n",
    "minandmax_num(-2,8)"
   ]
  },
  {
   "cell_type": "code",
   "execution_count": 102,
   "id": "31d868dc",
   "metadata": {},
   "outputs": [],
   "source": [
    "# always write docstrings which can help the user and other programmers\n",
    "def minandmax_num(a,b):\n",
    "    '''\n",
    "    The function returns both the maximum and minimum of two numbers\n",
    "    '''\n",
    "    if a>b:\n",
    "        maxnum=a\n",
    "        minnum=b\n",
    "    else:\n",
    "        maxnum=b\n",
    "        minnum=a\n",
    "    return maxnum,minnum"
   ]
  },
  {
   "cell_type": "code",
   "execution_count": 101,
   "id": "abf12f01",
   "metadata": {},
   "outputs": [
    {
     "name": "stdout",
     "output_type": "stream",
     "text": [
      "Help on function minandmax_num in module __main__:\n",
      "\n",
      "minandmax_num(a, b)\n",
      "    The function returns both the maximum and minimum of two numbers\n",
      "\n"
     ]
    }
   ],
   "source": [
    "help (minandmax_num)"
   ]
  },
  {
   "cell_type": "code",
   "execution_count": null,
   "id": "c2952330",
   "metadata": {},
   "outputs": [],
   "source": []
  }
 ],
 "metadata": {
  "kernelspec": {
   "display_name": "Python 3.10.4 ('Python': venv)",
   "language": "python",
   "name": "python3"
  },
  "language_info": {
   "codemirror_mode": {
    "name": "ipython",
    "version": 3
   },
   "file_extension": ".py",
   "mimetype": "text/x-python",
   "name": "python",
   "nbconvert_exporter": "python",
   "pygments_lexer": "ipython3",
   "version": "3.10.4"
  },
  "vscode": {
   "interpreter": {
    "hash": "2cd22892412358948f31e9890141ecfc6cbdaaa9c5b83fbafb7e1eb871fcd492"
   }
  }
 },
 "nbformat": 4,
 "nbformat_minor": 5
}
