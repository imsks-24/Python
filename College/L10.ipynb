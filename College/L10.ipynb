{
 "cells": [
  {
   "cell_type": "markdown",
   "id": "0f73bef0",
   "metadata": {},
   "source": [
    "# csv file handling\n",
    "* Reading and writing data to a file using the standard file methods in Python means that the data is read as a string. This means that you may need to use string slicing to select the data that you want. It is often easier to work with CSV files using the csv library."
   ]
  },
  {
   "cell_type": "code",
   "execution_count": 3,
   "id": "f39700f0",
   "metadata": {},
   "outputs": [
    {
     "name": "stdout",
     "output_type": "stream",
     "text": [
      "['Jackson', 'Thompson', 'jackson.thompson@hotmail.com']\n",
      "['Luke', 'Wallace', 'luke.wallace@lycos.com']\n",
      "['David', 'Wright', 'david.wright@hotmail.com']\n",
      "['Nathaniel', 'Butler', 'nathaniel.butler@aol.com']\n",
      "['Noah', 'Simpson', 'noah.simpson@hotmail.com']\n",
      "['Eli', 'Mitchell', 'eli.mitchell@aol.com']\n",
      "['Xavier', 'Shaw', 'xavier.shaw@gmail.com']\n",
      "['Josiah', 'Harrison', 'josiah.harrison@aol.com']\n",
      "['Nolan', 'Thompson', 'nolan.thompson@aol.com']\n",
      "['Avery', 'Martin', 'avery.martin@yahoo.com']\n"
     ]
    }
   ],
   "source": [
    "\n",
    "'''\n",
    "reading contents of csv file row by row\n",
    "'''\n",
    "import csv\n",
    "\n",
    "\n",
    "f0 = open('C:/Users/mmray/.spyder-py3/ippclasscodes/ippclasscodes/funfolder/attendees1.csv', mode = 'r', encoding = 'cp1252')\n",
    "\n",
    "csv_f = csv.reader(f0) # returns a reader object which iterates over lines of a CSV file\n",
    "\n",
    "#print(csv_f[,:1])\n",
    "iter=1\n",
    "for row in csv_f:\n",
    "    print(row)\n",
    "    iter+=1\n",
    "    if iter > 10:\n",
    "        break\n",
    "    #if iter in range(10):\n",
    "        #print(row)\n",
    "        #iter+=1\n",
    "    #else:\n",
    "        #break\n",
    "    \n",
    "    #for e in row:\n",
    "        #print(e)\n",
    "    #print(row)\n",
    "\n",
    "#for row in csv_f:\n",
    "    #print(row[2])\n"
   ]
  },
  {
   "cell_type": "code",
   "execution_count": 19,
   "id": "9a6bc372",
   "metadata": {},
   "outputs": [
    {
     "name": "stdout",
     "output_type": "stream",
     "text": [
      "Name\n",
      "Age\n",
      "x\n",
      "30\n",
      "y\n",
      "25\n",
      "z\n",
      "43\n",
      "p\n",
      "76\n",
      "q\n",
      "19\n"
     ]
    }
   ],
   "source": [
    "'''\n",
    "reading contents of csv file element by element\n",
    "'''\n",
    "import csv\n",
    "\n",
    "f = open('C:/Users/mmray/.spyder-py3/ippclasscodes/ippclasscodes/funfolder/numbers1.csv', mode = 'r', encoding = 'utf8')\n",
    "\n",
    "with f:\n",
    "\n",
    "    reader = csv.reader(f)\n",
    "\n",
    "    for row in reader:\n",
    "        for k in row:\n",
    "            print(k)"
   ]
  },
  {
   "cell_type": "code",
   "execution_count": 4,
   "id": "9adf15f4",
   "metadata": {},
   "outputs": [
    {
     "name": "stdout",
     "output_type": "stream",
     "text": [
      "{'ï»¿Name': 'x', 'Age': '30'}\n",
      "{'ï»¿Name': 'y', 'Age': '25'}\n",
      "{'ï»¿Name': 'z', 'Age': '43'}\n",
      "{'ï»¿Name': 'p', 'Age': '76'}\n",
      "{'ï»¿Name': 'q', 'Age': '19'}\n"
     ]
    }
   ],
   "source": [
    "'''\n",
    "reading contents of csv file in a dictionary format\n",
    "'''\n",
    "import csv\n",
    "\n",
    "f = open('C:/Users/mmray/.spyder-py3/ippclasscodes/ippclasscodes/funfolder/numbers1.csv', mode = 'r')\n",
    "\n",
    "with f:\n",
    "\n",
    "    reader = csv.DictReader(f)\n",
    "\n",
    "    for row in reader:\n",
    "        print(row)"
   ]
  },
  {
   "cell_type": "code",
   "execution_count": 12,
   "id": "bbbec0ef",
   "metadata": {},
   "outputs": [
    {
     "name": "stdout",
     "output_type": "stream",
     "text": [
      "['Age', '30', '25', '43', '76', '19']\n",
      "['30', '25', '43', '76', '19']\n",
      "193\n"
     ]
    }
   ],
   "source": [
    "'''\n",
    "doing something with the contents in csv file\n",
    "'''\n",
    "\n",
    "import csv\n",
    "\n",
    "f = open('C:/Users/mmray/.spyder-py3/ippclasscodes/ippclasscodes/funfolder/numbers1.csv', mode = 'r', encoding = 'utf8')\n",
    "\n",
    "with f:\n",
    "\n",
    "    reader = csv.reader(f)\n",
    "    lt1=[]\n",
    "    sum1=0\n",
    "\n",
    "    for row in reader:\n",
    "        lt1.append(row[1])\n",
    "    print(lt1)\n",
    "    #print(lt1)\n",
    "    lt2=lt1[1:]\n",
    "    print(lt2)\n",
    "    for k in lt2:\n",
    "        sum1+=int(k)\n",
    "    print(sum1)\n",
    "\n",
    "\n"
   ]
  },
  {
   "cell_type": "code",
   "execution_count": 17,
   "id": "090a78c6",
   "metadata": {},
   "outputs": [
    {
     "name": "stdout",
     "output_type": "stream",
     "text": [
      "[['x,30'], ['y,25'], ['z,43'], ['p,76'], ['q,19']]\n",
      "data in row number 1 is ['x,30']\n",
      "data in row number 2 is ['y,25']\n",
      "data in row number 3 is ['z,43']\n",
      "data in row number 4 is ['p,76']\n",
      "data in row number 5 is ['q,19']\n"
     ]
    }
   ],
   "source": [
    "'''\n",
    "skipping the header using next() method\n",
    "'''\n",
    "\n",
    "import csv\n",
    "  \n",
    "# reading data from a csv file 'Data.csv'\n",
    "with open('C:/Users/mmray/.spyder-py3/ippclasscodes/ippclasscodes/funfolder/numbers1.csv', mode = 'r',encoding='utf8') as file:\n",
    "    \n",
    "    reader = csv.reader(file, delimiter = ' ')\n",
    "      \n",
    "    # store the headers in a separate variable,\n",
    "    # move the reader object to point on the next row\n",
    "    #headings = next(reader) (uncomment if you want to use the header names)\n",
    "    next(reader) \n",
    "    # output list to store all rows\n",
    "    Output = []\n",
    "    for row in reader:\n",
    "        Output.append(row[:])\n",
    "    print(Output) # returns a list of lists\n",
    "  \n",
    "    for row_num, rows in enumerate(Output):\n",
    "        print('data in row number {} is {}'.format(row_num+1, rows))\n",
    "  \n",
    "    #print('headers were: ', headings)"
   ]
  },
  {
   "cell_type": "code",
   "execution_count": 18,
   "id": "9e8a442f",
   "metadata": {},
   "outputs": [],
   "source": [
    "'''\n",
    "write contents into csv file\n",
    "'''\n",
    "\n",
    "import csv\n",
    "\n",
    "nms = [[1, 2, 3, 4, 5, 6], [7, 8, 9, 10, 11, 12]]\n",
    "\n",
    "f = open('C:/Users/mmray/.spyder-py3/ippclasscodes/ippclasscodes/funfolder/numbers2.csv', 'w')\n",
    "\n",
    "with f:\n",
    "\n",
    "    writer = csv.writer(f)#returns a writer object which writes data into CSV file\n",
    "    \n",
    "    for row in nms:\n",
    "        writer.writerow(row)"
   ]
  },
  {
   "cell_type": "code",
   "execution_count": 21,
   "id": "9ceba86b",
   "metadata": {},
   "outputs": [],
   "source": [
    "'''\n",
    "write contents of multiple rowa of data into csv file \n",
    "'''\n",
    "import csv\n",
    "\n",
    "nms = [[1, 2, 3], [7, 8, 9], [10, 11, 12]]\n",
    "\n",
    "f = open('C:/Users/mmray/.spyder-py3/ippclasscodes/ippclasscodes/funfolder/numbers3.csv', 'w')\n",
    "\n",
    "with f:\n",
    "\n",
    "    writer = csv.writer(f)\n",
    "    writer.writerows(nms)"
   ]
  },
  {
   "cell_type": "code",
   "execution_count": 22,
   "id": "a56c8350",
   "metadata": {},
   "outputs": [],
   "source": [
    "'''\n",
    "write a dictionary into csv file\n",
    "'''\n",
    "\n",
    "import csv\n",
    "\n",
    "f = open('C:/Users/mmray/.spyder-py3/ippclasscodes/ippclasscodes/funfolder/names1.csv', 'w')\n",
    "\n",
    "with f:\n",
    "    \n",
    "    fnames = ['first_name', 'last_name']\n",
    "    writer = csv.DictWriter(f, fieldnames=fnames)    \n",
    "\n",
    "    writer.writeheader()\n",
    "    writer.writerow({'first_name' : 'John', 'last_name': 'Smith'})\n",
    "    writer.writerow({'first_name' : 'Robert', 'last_name': 'Brown'})\n",
    "    writer.writerow({'first_name' : 'Julia', 'last_name': 'Griffin'})"
   ]
  },
  {
   "cell_type": "code",
   "execution_count": 1,
   "id": "8396fdcf",
   "metadata": {},
   "outputs": [
    {
     "name": "stdout",
     "output_type": "stream",
     "text": [
      "{'z': 'software', 'q': 'student', 'r': 'manager'}\n",
      "there are  1  number of student voters\n"
     ]
    }
   ],
   "source": [
    "'''\n",
    "Experiment 5 solution for python lab group p1\n",
    "'''\n",
    "\n",
    "\n",
    "import csv\n",
    "  \n",
    "\n",
    "with open('C:/Users/mmray/.spyder-py3/ippclasscodes/ippclasscodes/funfolder/lab5itppcsvfile.csv', mode = 'r',encoding='utf8') as file:\n",
    "    \n",
    "    reader = csv.reader(file)\n",
    "      \n",
    "   \n",
    "    # output list to store all rows\n",
    "    namelist=[]\n",
    "    agelist=[]\n",
    "    professionlist=[]\n",
    "    Output = []\n",
    "    for row in reader:\n",
    "        Output.append(row[:])\n",
    "    #print(Output) # returns a list of lists\n",
    "    for ri, r in enumerate(Output):\n",
    "        if 'name' in Output[ri][0]:\n",
    "            namelist=Output[ri][1:]\n",
    "            #print(namelist1)            \n",
    "        if 'age' in Output[ri][0]: \n",
    "            agelist=Output[ri][1:]\n",
    "            #print(agelist1)\n",
    "        if 'profession' in Output[ri][0]: \n",
    "            professionlist=Output[ri][1:]\n",
    "            #print(professionlist1)\n",
    "    voterlist={}\n",
    "    scount=0\n",
    "    for i,j in enumerate(agelist):\n",
    "        if int(j) > 18:\n",
    "            voterlist.update({namelist[i]:professionlist[i]})\n",
    "            if professionlist[i] == 'student':\n",
    "                scount+=1\n",
    "    print(voterlist)\n",
    "    print('there are ',scount, ' number of student voters')\n",
    "    f1 = open('C:/Users/mmray/.spyder-py3/ippclasscodes/ippclasscodes/funfolder/voterlist1.csv', 'w')\n",
    "\n",
    "    with f1:\n",
    "        fnames = ['name', 'profession']\n",
    "        writer = csv.DictWriter(f1, fieldnames=fnames) \n",
    "        writer.writeheader()\n",
    "        for k in voterlist:\n",
    "            writer.writerow({'name':k , 'profession':voterlist[k]})\n",
    "        "
   ]
  },
  {
   "cell_type": "code",
   "execution_count": null,
   "id": "a3f327be",
   "metadata": {},
   "outputs": [],
   "source": []
  },
  {
   "cell_type": "code",
   "execution_count": null,
   "id": "43b3d9ce",
   "metadata": {},
   "outputs": [],
   "source": []
  }
 ],
 "metadata": {
  "kernelspec": {
   "display_name": "Python 3.10.4 ('Python': venv)",
   "language": "python",
   "name": "python3"
  },
  "language_info": {
   "codemirror_mode": {
    "name": "ipython",
    "version": 3
   },
   "file_extension": ".py",
   "mimetype": "text/x-python",
   "name": "python",
   "nbconvert_exporter": "python",
   "pygments_lexer": "ipython3",
   "version": "3.10.4"
  },
  "vscode": {
   "interpreter": {
    "hash": "2cd22892412358948f31e9890141ecfc6cbdaaa9c5b83fbafb7e1eb871fcd492"
   }
  }
 },
 "nbformat": 4,
 "nbformat_minor": 5
}
