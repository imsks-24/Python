{
 "cells": [
  {
   "cell_type": "markdown",
   "id": "f23dd17d",
   "metadata": {},
   "source": [
    "# Variables\n",
    "\n",
    "We have already seen, how a variable works"
   ]
  },
  {
   "cell_type": "code",
   "execution_count": 2,
   "id": "59815c17",
   "metadata": {},
   "outputs": [
    {
     "name": "stdout",
     "output_type": "stream",
     "text": [
      "Enter a integer:6\n"
     ]
    }
   ],
   "source": [
    "x= input('Enter a integer:')\n"
   ]
  },
  {
   "cell_type": "markdown",
   "id": "e4cebccb",
   "metadata": {},
   "source": [
    "- In a program, a variable is generally a named ietem like, \"item\", 'x', 'age' etc, which used to hold a value.\n",
    "- The variable is assigned a value by an assignment statement i.e. x = 5. In this case x holds the value 5 for the following statements untill it is reassigned.\n",
    "- The left side of an assignment statement must be a variable. The right side can be a value or an expression.\n",
    "\n",
    "\n",
    "'=' is not equals to: x = y should be read as the value of y is assigned to x.\n"
   ]
  },
  {
   "cell_type": "code",
   "execution_count": 6,
   "id": "adf5dd2f",
   "metadata": {},
   "outputs": [
    {
     "name": "stdout",
     "output_type": "stream",
     "text": [
      "6\n",
      "12\n",
      "7\n"
     ]
    }
   ],
   "source": [
    "x = 6\n",
    "print(x)\n",
    "\n",
    "#Expressions on the right side. So variables can be both in left and right side.\n",
    "y = x*2\n",
    "print (y)\n",
    "x = x+1\n",
    "print(x)\n",
    "\n"
   ]
  },
  {
   "cell_type": "code",
   "execution_count": 5,
   "id": "2c026c0d",
   "metadata": {},
   "outputs": [
    {
     "ename": "SyntaxError",
     "evalue": "cannot assign to operator (Temp/ipykernel_13908/833974060.py, line 3)",
     "output_type": "error",
     "traceback": [
      "\u001b[1;36m  File \u001b[1;32m\"C:\\Users\\mmray\\AppData\\Local\\Temp/ipykernel_13908/833974060.py\"\u001b[1;36m, line \u001b[1;32m3\u001b[0m\n\u001b[1;33m    x+y = y+x\u001b[0m\n\u001b[1;37m    ^\u001b[0m\n\u001b[1;31mSyntaxError\u001b[0m\u001b[1;31m:\u001b[0m cannot assign to operator\n"
     ]
    }
   ],
   "source": [
    "# Incorrect use of assignment\n",
    "\n",
    "x+y = y+x"
   ]
  },
  {
   "cell_type": "markdown",
   "id": "8815f624",
   "metadata": {},
   "source": [
    "- Example 1: \n",
    "\n",
    "       Write a program to take input from the user, and assign it to a variable. Reassign the variable with 2.5 times the value, and print it. \n",
    "\n"
   ]
  },
  {
   "cell_type": "code",
   "execution_count": 7,
   "id": "6eeca199",
   "metadata": {},
   "outputs": [
    {
     "name": "stdout",
     "output_type": "stream",
     "text": [
      "tell me a number: 6.5\n",
      "16.25\n"
     ]
    }
   ],
   "source": [
    "x= float(input('tell me a number: '))\n",
    "x = x*2.5\n",
    "print(x)"
   ]
  },
  {
   "cell_type": "markdown",
   "id": "8a36d1c3",
   "metadata": {},
   "source": [
    "Names or Identifiers\n",
    "\n",
    "- Must start with letter or underscore, and can contain any sequence of further letters, numbers and underscores.\n",
    "- Is case sensitive.\n",
    "- Should not contain space or special characters.\n",
    "- Should not be a keyword.\n",
    "\n",
    "*Can start with double underscore e.g. __init__, but should be avoided as they have special use."
   ]
  },
  {
   "cell_type": "code",
   "execution_count": 9,
   "id": "72f9cc91",
   "metadata": {},
   "outputs": [
    {
     "name": "stdout",
     "output_type": "stream",
     "text": [
      "6\n",
      "2238852655568\n",
      "2238852655728\n"
     ]
    }
   ],
   "source": [
    "# address of the variable can be accessed through id()\n",
    "\n",
    "x = 3*2\n",
    "print (x)\n",
    "print (id(x))\n",
    "x = x +5\n",
    "print(id(x))"
   ]
  },
  {
   "cell_type": "markdown",
   "id": "327923d9",
   "metadata": {},
   "source": [
    "# Floating Points\n",
    "\n",
    "- Use e notation to represent the floating point numbers scientifically\n",
    "\n",
    "Example 2: \n",
    "\n",
    "    Input the distance to travel, average velocity of plane and average velocity of car. Find the approximate time required to go by air and go by road."
   ]
  },
  {
   "cell_type": "code",
   "execution_count": 3,
   "id": "54e9baab",
   "metadata": {},
   "outputs": [
    {
     "name": "stdout",
     "output_type": "stream",
     "text": [
      "Enter the distance in kilometers: 4.5e2\n",
      "Enter the plane's avg speed : 1.0e2\n",
      "Enter the car's avg speed : 5.0e1\n",
      "The time required to travel by air is approximately:  4  hours\n",
      "The time required to travel by road is approximately:  9  hours\n"
     ]
    }
   ],
   "source": [
    "\n",
    "# take input and assign it to variables after converting to floating point\n",
    "distto_travel= float(input('Enter the distance in kilometers: '))\n",
    "avgvel_plane=  float(input(\"Enter the plane's avg speed : \"))\n",
    "avgvel_car=  float(input(\"Enter the car's avg speed : \"))\n",
    "# print output after converting to integer format\n",
    "print('The time required to travel by air is approximately: ', int(distto_travel/avgvel_plane), ' hours')\n",
    "print('The time required to travel by road is approximately: ', int(distto_travel/avgvel_car), ' hours')"
   ]
  },
  {
   "cell_type": "code",
   "execution_count": 5,
   "id": "1e8ac43b",
   "metadata": {},
   "outputs": [
    {
     "name": "stdout",
     "output_type": "stream",
     "text": [
      "inf\n"
     ]
    }
   ],
   "source": [
    "# Be careful about overflow\n",
    "a=2.0e1024\n",
    "print(a)"
   ]
  },
  {
   "cell_type": "code",
   "execution_count": 7,
   "id": "9a8ae7c9",
   "metadata": {},
   "outputs": [
    {
     "name": "stdout",
     "output_type": "stream",
     "text": [
      "pi upto 2 digits after decimal is 3.14\n",
      "1.41\n"
     ]
    }
   ],
   "source": [
    "# Formatting the output of float number\n",
    "import math\n",
    "x= math.pi\n",
    "print(f'pi upto 2 digits after decimal is {x:.2f}')\n",
    "\n",
    "print(f'{math.sqrt(2):.2f}')"
   ]
  },
  {
   "cell_type": "markdown",
   "id": "265d18f3",
   "metadata": {},
   "source": [
    "# Arithmetic Expressions\n",
    "\n",
    "  # Precedence\n",
    "     1) Bracket () : (x - 2) * 3 => (x-2) will be evaluated first\n",
    "     2) Exponent ** : 2 + 4**2 = 18\n",
    "     3) Unary Minus - : 2 * -y => y will be computed first  \n",
    "     4) Mul and Div *, / , // , % (equal precedence for these) : 3 - 4 / 2 = 1\n",
    "     5) Add and Sub +, - \n",
    "     6) left to right evaluatio : 2 * 6 / 4 => 2*6 is evaluated first\n",
    "     7) ** is evaluated right to left \n",
    "  \n",
    " - Exercise 3\n",
    "         Calculate calorie wit the formula: time in minutes / 4 multiplied with (years times 0.2017 + weight times 0.9036 + heartrate times 0.6309 -55.0969\n",
    "   \n",
    "   \n",
    "   # Compound operators\n",
    "       1) x +=1 ~ x = x+1 (same format for -)\n",
    "       2) x *=5 ~ x = x*5 (same format for /)\n",
    "       3) x %=2 ~ x = x%2\n",
    " - Exercise 4\n",
    "          Take the time in minutes and convert it into hours and minutes\n",
    " - Exercise 5\n",
    "          Take a phone number as input and print the country code\n",
    "          "
   ]
  },
  {
   "cell_type": "code",
   "execution_count": 9,
   "id": "0bd47b51",
   "metadata": {},
   "outputs": [
    {
     "name": "stdout",
     "output_type": "stream",
     "text": [
      "No of minutes: 70\n",
      "hours:  1\n",
      "minutes:  10\n"
     ]
    }
   ],
   "source": [
    "#Exercise 4\n",
    "# Take user inputs in minutes\n",
    "a= int(input('No of minutes: '))\n",
    "print('hours: ',a//60)\n",
    "print('minutes: ',a%60)"
   ]
  },
  {
   "cell_type": "code",
   "execution_count": null,
   "id": "4caf7d18",
   "metadata": {},
   "outputs": [],
   "source": []
  }
 ],
 "metadata": {
  "kernelspec": {
   "display_name": "Python 3.10.4 ('Python': venv)",
   "language": "python",
   "name": "python3"
  },
  "language_info": {
   "codemirror_mode": {
    "name": "ipython",
    "version": 3
   },
   "file_extension": ".py",
   "mimetype": "text/x-python",
   "name": "python",
   "nbconvert_exporter": "python",
   "pygments_lexer": "ipython3",
   "version": "3.10.4"
  },
  "vscode": {
   "interpreter": {
    "hash": "2cd22892412358948f31e9890141ecfc6cbdaaa9c5b83fbafb7e1eb871fcd492"
   }
  }
 },
 "nbformat": 4,
 "nbformat_minor": 5
}
